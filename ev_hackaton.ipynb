{
 "cells": [
  {
   "cell_type": "code",
   "execution_count": 1,
   "id": "03e3b8f4",
   "metadata": {},
   "outputs": [],
   "source": [
    "import pandas as pd\n",
    "#import torch\n",
    "import numpy as np\n",
    "from matplotlib import pyplot as plt\n",
    "%matplotlib inline\n",
    "#import seaborn as sns"
   ]
  },
  {
   "cell_type": "code",
   "execution_count": 2,
   "id": "681be318",
   "metadata": {},
   "outputs": [
    {
     "data": {
      "text/html": [
       "<div>\n",
       "<style scoped>\n",
       "    .dataframe tbody tr th:only-of-type {\n",
       "        vertical-align: middle;\n",
       "    }\n",
       "\n",
       "    .dataframe tbody tr th {\n",
       "        vertical-align: top;\n",
       "    }\n",
       "\n",
       "    .dataframe thead th {\n",
       "        text-align: right;\n",
       "    }\n",
       "</style>\n",
       "<table border=\"1\" class=\"dataframe\">\n",
       "  <thead>\n",
       "    <tr style=\"text-align: right;\">\n",
       "      <th></th>\n",
       "      <th>demand_point_index</th>\n",
       "      <th>x_coordinate</th>\n",
       "      <th>y_coordinate</th>\n",
       "      <th>2010</th>\n",
       "      <th>2011</th>\n",
       "      <th>2012</th>\n",
       "      <th>2013</th>\n",
       "      <th>2014</th>\n",
       "      <th>2015</th>\n",
       "      <th>2016</th>\n",
       "      <th>2017</th>\n",
       "      <th>2018</th>\n",
       "    </tr>\n",
       "  </thead>\n",
       "  <tbody>\n",
       "    <tr>\n",
       "      <th>0</th>\n",
       "      <td>0</td>\n",
       "      <td>0.5</td>\n",
       "      <td>0.5</td>\n",
       "      <td>0.352242</td>\n",
       "      <td>0.667932</td>\n",
       "      <td>0.958593</td>\n",
       "      <td>2.911901</td>\n",
       "      <td>4.338274</td>\n",
       "      <td>6.561995</td>\n",
       "      <td>8.454417</td>\n",
       "      <td>10.595324</td>\n",
       "      <td>13.119572</td>\n",
       "    </tr>\n",
       "    <tr>\n",
       "      <th>1</th>\n",
       "      <td>1</td>\n",
       "      <td>1.5</td>\n",
       "      <td>0.5</td>\n",
       "      <td>0.325940</td>\n",
       "      <td>0.591964</td>\n",
       "      <td>0.862652</td>\n",
       "      <td>2.589068</td>\n",
       "      <td>4.196034</td>\n",
       "      <td>5.745551</td>\n",
       "      <td>8.753195</td>\n",
       "      <td>11.126995</td>\n",
       "      <td>12.020091</td>\n",
       "    </tr>\n",
       "    <tr>\n",
       "      <th>2</th>\n",
       "      <td>2</td>\n",
       "      <td>2.5</td>\n",
       "      <td>0.5</td>\n",
       "      <td>0.373752</td>\n",
       "      <td>0.591890</td>\n",
       "      <td>0.969733</td>\n",
       "      <td>2.641432</td>\n",
       "      <td>3.541772</td>\n",
       "      <td>5.469161</td>\n",
       "      <td>8.414627</td>\n",
       "      <td>10.115336</td>\n",
       "      <td>14.018254</td>\n",
       "    </tr>\n",
       "    <tr>\n",
       "      <th>3</th>\n",
       "      <td>3</td>\n",
       "      <td>3.5</td>\n",
       "      <td>0.5</td>\n",
       "      <td>0.420686</td>\n",
       "      <td>0.584055</td>\n",
       "      <td>0.906547</td>\n",
       "      <td>2.378577</td>\n",
       "      <td>3.888121</td>\n",
       "      <td>5.846089</td>\n",
       "      <td>9.083868</td>\n",
       "      <td>12.424885</td>\n",
       "      <td>15.012302</td>\n",
       "    </tr>\n",
       "    <tr>\n",
       "      <th>4</th>\n",
       "      <td>4</td>\n",
       "      <td>4.5</td>\n",
       "      <td>0.5</td>\n",
       "      <td>0.475621</td>\n",
       "      <td>0.647940</td>\n",
       "      <td>0.981544</td>\n",
       "      <td>2.665400</td>\n",
       "      <td>4.218711</td>\n",
       "      <td>6.776609</td>\n",
       "      <td>8.851107</td>\n",
       "      <td>11.731131</td>\n",
       "      <td>16.355563</td>\n",
       "    </tr>\n",
       "  </tbody>\n",
       "</table>\n",
       "</div>"
      ],
      "text/plain": [
       "   demand_point_index  x_coordinate  y_coordinate      2010      2011  \\\n",
       "0                   0           0.5           0.5  0.352242  0.667932   \n",
       "1                   1           1.5           0.5  0.325940  0.591964   \n",
       "2                   2           2.5           0.5  0.373752  0.591890   \n",
       "3                   3           3.5           0.5  0.420686  0.584055   \n",
       "4                   4           4.5           0.5  0.475621  0.647940   \n",
       "\n",
       "       2012      2013      2014      2015      2016       2017       2018  \n",
       "0  0.958593  2.911901  4.338274  6.561995  8.454417  10.595324  13.119572  \n",
       "1  0.862652  2.589068  4.196034  5.745551  8.753195  11.126995  12.020091  \n",
       "2  0.969733  2.641432  3.541772  5.469161  8.414627  10.115336  14.018254  \n",
       "3  0.906547  2.378577  3.888121  5.846089  9.083868  12.424885  15.012302  \n",
       "4  0.981544  2.665400  4.218711  6.776609  8.851107  11.731131  16.355563  "
      ]
     },
     "execution_count": 2,
     "metadata": {},
     "output_type": "execute_result"
    }
   ],
   "source": [
    "dfdemand = pd.read_csv('Demand_History.csv')\n",
    "dfinfra = pd.read_csv('exisiting_EV_infrastructure_2018.csv')\n",
    "sample_sub = pd.read_csv('sample_submission.csv')\n",
    "dfdemand.head()"
   ]
  },
  {
   "cell_type": "code",
   "execution_count": 3,
   "id": "b22544f7",
   "metadata": {},
   "outputs": [],
   "source": [
    "def calculate_Distij(demand_point_x=dfdemand['x_coordinate'], \n",
    "                    demand_point_y=dfdemand['y_coordinate'],\n",
    "                    supply_point_x = dfinfra['x_coordinate'],\n",
    "                    supply_point_y=dfinfra['y_coordinate']): \n",
    "    # for x coord\n",
    "    newdf = pd.DataFrame()\n",
    "    lis = []\n",
    "    for i in demand_point_x:\n",
    "        for j in supply_point_x:\n",
    "            lis.append(i-j)\n",
    "    lisarr = np.asarray(lis)\n",
    "    #print(lisarr)\n",
    "    # for y coord\n",
    "    lis1 = []\n",
    "    for i in demand_point_y:\n",
    "        for j in supply_point_y:\n",
    "            lis1.append(i-j)\n",
    "    lisarr1 = np.asarray(lis1)\n",
    "    lis2 = []\n",
    "    #Calculating linear distances between two points\n",
    "    for x, y in zip(lisarr, lisarr1):\n",
    "        lis2.append(np.sqrt(x**2 + y**2))\n",
    "    Distij = np.asarray(lis2)\n",
    "    #dist1 is the copy of the reshaped dist value\n",
    "    Distij = Distij.reshape(4096, 100)\n",
    "    #print(dist1.shape)\n",
    "    return Distij"
   ]
  },
  {
   "cell_type": "code",
   "execution_count": 4,
   "id": "11955952",
   "metadata": {},
   "outputs": [],
   "source": [
    "x = calculate_Distij()"
   ]
  },
  {
   "cell_type": "code",
   "execution_count": 5,
   "id": "a3398656",
   "metadata": {},
   "outputs": [],
   "source": [
    "def truncate_min_k(x, k, inplace=False):\n",
    "    m, n = x.shape\n",
    "    # get (unsorted) indices of top-k values\n",
    "    mink_indices = np.argpartition(x, k, axis=1)[:, :k]\n",
    "    # get k-th value\n",
    "    rows, _ = np.indices((m, k))\n",
    "    kth_vals = x[rows, mink_indices].max(axis=1)\n",
    "    # get boolean mask of values smaller than k-th\n",
    "    is_greater_than_kth = x > kth_vals[:, None]\n",
    "    # replace mask by 0\n",
    "    if not inplace:\n",
    "        return np.where(is_greater_than_kth, 0, x)\n",
    "    x[is_greater_than_kth] = 0\n",
    "    return x"
   ]
  },
  {
   "cell_type": "code",
   "execution_count": 6,
   "id": "a49d88be",
   "metadata": {},
   "outputs": [
    {
     "data": {
      "text/plain": [
       "(4096, 100)"
      ]
     },
     "execution_count": 6,
     "metadata": {},
     "output_type": "execute_result"
    }
   ],
   "source": [
    "k=10\n",
    "min_k = truncate_min_k(x, k=k)\n",
    "min_k.shape"
   ]
  },
  {
   "cell_type": "code",
   "execution_count": 7,
   "id": "0d903334",
   "metadata": {},
   "outputs": [],
   "source": [
    "def summation_Dist():\n",
    "    real_sum = []\n",
    "    for i in range(4096):\n",
    "        real_sum.append(min_k[i].sum())\n",
    "        \n",
    "    sum_dist = np.asarray(real_sum)[:, None]\n",
    "    return sum_dist"
   ]
  },
  {
   "cell_type": "code",
   "execution_count": 8,
   "id": "f943307c",
   "metadata": {},
   "outputs": [],
   "source": [
    "sum_dist = summation_Dist()"
   ]
  },
  {
   "cell_type": "code",
   "execution_count": 9,
   "id": "b1ae0f87",
   "metadata": {},
   "outputs": [],
   "source": [
    "def supply_demand(Dforecast=dfdemand['2018'].values[:, None]):  \n",
    "    \"\"\"\n",
    "    Constraint5: \n",
    "    inputs:\n",
    "    trunmin: This is the truncated minimum distances of each demand points from\n",
    "    every supply points\n",
    "    di: This is the forecasted demands for a particular year\n",
    "    sum_dist: This is the sum of the truncated distances of each demand point from every \n",
    "    supply points reshaped into 4096 X 1 to match the broadcastable shape of 'trunmin'\n",
    "    \n",
    "    Return:\n",
    "        demand satisfied by each supply point by the demand point\n",
    "    \"\"\"\n",
    "    sum_dist = summation_Dist()\n",
    "    min_k = truncate_min_k(x, k).reshape(4096, -1)    \n",
    "    lis = []\n",
    "    for j in range(4096):\n",
    "        for distance in min_k[j]: #changed to minfive\n",
    "            #for x, y, z in zip(min_sup, sum_dist[0], di[0]):\n",
    "              #  lis.append((x*z)/y)\n",
    "            lis.append((distance*Dforecast[j])/sum_dist[j])\n",
    " \n",
    "    \n",
    "    return np.asarray(lis)"
   ]
  },
  {
   "cell_type": "code",
   "execution_count": 10,
   "id": "050d47d7",
   "metadata": {
    "scrolled": true
   },
   "outputs": [
    {
     "data": {
      "text/plain": [
       "(409600, 1)"
      ]
     },
     "execution_count": 10,
     "metadata": {},
     "output_type": "execute_result"
    }
   ],
   "source": [
    "DSij = supply_demand()\n",
    "DSij.shape"
   ]
  },
  {
   "cell_type": "code",
   "execution_count": 11,
   "id": "e2e31225",
   "metadata": {},
   "outputs": [],
   "source": [
    "dfinfra['scs_cap'] = dfinfra['existing_num_SCS']*200\n",
    "dfinfra['fcs_cap'] = dfinfra['existing_num_FCS']*400\n",
    "dfinfra['total_cap'] = dfinfra['scs_cap']+ dfinfra['fcs_cap']\n",
    "dfinfra['parking_cap'] = (dfinfra['total_parking_slots'] - dfinfra['existing_num_SCS']) * 400 + (dfinfra['existing_num_SCS']) * 200\n",
    "dfinfra['available_cap'] = dfinfra['parking_cap'] - dfinfra['total_cap']"
   ]
  },
  {
   "cell_type": "code",
   "execution_count": 12,
   "id": "6ecf3086",
   "metadata": {},
   "outputs": [
    {
     "data": {
      "text/plain": [
       "(4096,)"
      ]
     },
     "execution_count": 12,
     "metadata": {},
     "output_type": "execute_result"
    }
   ],
   "source": [
    "dfdemand['2018'].shape"
   ]
  },
  {
   "cell_type": "code",
   "execution_count": 13,
   "id": "62328f69",
   "metadata": {},
   "outputs": [],
   "source": [
    "def add_infrastructure(Dforecast=dfdemand['2018'].values[:, None]):\n",
    "    \"\"\"\n",
    "    purpose: This function calculates the number of additional infrastructure \n",
    "    needed at every(100) supply points over all the demand points.\n",
    "    Particularly optimizing for more FCS if more infrastructure is\n",
    "    needed\n",
    "    inputs:\n",
    "    sup_cap:\n",
    "    This is the overall calculated supply capacity returned by our model(calculation parameters)\n",
    "    scs_cap{constant}:\n",
    "    This is the supply or charging capacity of slow charging station at every supply point\n",
    "    const_total{constant}:\n",
    "    This is the constant total charging capacity at every supply point\n",
    "    \"\"\"\n",
    "    newval =  supply_demand(Dforecast)\n",
    "    newval = newval.reshape(100, -1)\n",
    "    DS = np.sum(newval, 1)\n",
    "    smax= dfinfra['total_cap'].values\n",
    "    lis = []# for fast charging stations\n",
    "    for DSij, Smax in zip(DS, smax):\n",
    "    \n",
    "        result = Smax - DSij\n",
    "        if result >= 0:\n",
    "            lis.append(0)\n",
    "        else:\n",
    "            result = abs(result)\n",
    "            lis.append((result//400) + 1) #+1 removed\n",
    "\n",
    "        \n",
    "    \n",
    "    more_infra = np.asarray(lis) # capacity to add\n",
    "    return more_infra"
   ]
  },
  {
   "cell_type": "code",
   "execution_count": 14,
   "id": "7ba9e3fe",
   "metadata": {},
   "outputs": [
    {
     "data": {
      "text/plain": [
       "array([ 0.,  0.,  0.,  0.,  0.,  0.,  0.,  0.,  2.,  0.,  6.,  0.,  0.,\n",
       "        0.,  0.,  0.,  2.,  3.,  0.,  0.,  0.,  0.,  1.,  0.,  0.,  0.,\n",
       "        0.,  1.,  0.,  1.,  5.,  0.,  0.,  1.,  2.,  5.,  1.,  1.,  7.,\n",
       "        2.,  1., 11.,  0.,  1., 11.,  1.,  6., 11.,  0.,  1.,  1.,  9.,\n",
       "        9.,  0.,  0., 15.,  2., 11., 10.,  4., 11., 12.,  0.,  9., 10.,\n",
       "        0., 17.,  0.,  2.,  8.,  2.,  4., 10.,  5., 17.,  0.,  9.,  6.,\n",
       "        0.,  3.,  7.,  0.,  2.,  4.,  1.,  0.,  0.,  0.,  6.,  0.,  0.,\n",
       "        0.,  0.,  0.,  0.,  0.,  0.,  0.,  0.,  0.])"
      ]
     },
     "execution_count": 14,
     "metadata": {},
     "output_type": "execute_result"
    }
   ],
   "source": [
    "to_add = add_infrastructure()\n",
    "to_add"
   ]
  },
  {
   "cell_type": "code",
   "execution_count": 15,
   "id": "5c546598",
   "metadata": {},
   "outputs": [],
   "source": [
    "def excess_charging_cap(Dforecast=dfdemand['2018'].values[:, None], k=k):\n",
    "    #dfinfra['new_FCS'] = dfinfra['existing_num_FCS'].values + to_add\n",
    "    to_add = add_infrastructure(Dforecast)\n",
    "    dfinfra['add_cap'] = to_add * 400\n",
    "    dfinfra['excess_cap'] = dfinfra['available_cap'] - dfinfra['add_cap']\n",
    "    #print(dfinfra['excess_cap'])\n",
    "    excess=[]\n",
    "    for i in dfinfra['excess_cap']:\n",
    "        if i >= 0:\n",
    "            excess.append(0)\n",
    "        elif i < 0:\n",
    "            excess.append(i)\n",
    "    excess = np.asarray(excess)\n",
    "    #print(len(excess))\n",
    "    return excess"
   ]
  },
  {
   "cell_type": "code",
   "execution_count": 16,
   "id": "5501aac0",
   "metadata": {},
   "outputs": [
    {
     "data": {
      "text/plain": [
       "array([    0.,     0.,     0.,     0.,     0.,     0.,     0.,     0.,\n",
       "           0.,     0.,     0.,     0.,     0.,     0.,     0.,     0.,\n",
       "           0.,     0.,     0.,     0.,     0.,     0.,     0.,     0.,\n",
       "           0.,     0.,     0.,     0.,     0.,     0.,     0.,     0.,\n",
       "           0.,     0.,     0.,     0.,     0.,     0.,     0.,     0.,\n",
       "           0.,     0.,     0.,     0.,     0.,     0.,     0.,     0.,\n",
       "           0.,     0.,     0.,  -800.,     0.,     0.,     0., -1200.,\n",
       "           0.,     0.,  -400.,     0., -2400., -1600.,     0.,  -800.,\n",
       "           0.,     0., -2800.,     0.,     0.,     0.,     0.,     0.,\n",
       "           0.,     0., -4000.,     0., -2000.,     0.,     0.,     0.,\n",
       "           0.,     0.,     0.,     0.,     0.,     0.,     0.,     0.,\n",
       "           0.,     0.,     0.,     0.,     0.,     0.,     0.,     0.,\n",
       "           0.,     0.,     0.,     0.])"
      ]
     },
     "execution_count": 16,
     "metadata": {},
     "output_type": "execute_result"
    }
   ],
   "source": [
    "excess_charging_cap()"
   ]
  },
  {
   "cell_type": "code",
   "execution_count": 17,
   "id": "c9b074ce",
   "metadata": {},
   "outputs": [
    {
     "data": {
      "text/plain": [
       "array([ 6000.,  6400.,  4400.,  6400.,  6000.,  5200.,  3200.,  8000.,\n",
       "        7200.,  4000.,   800.,  3200.,  4800.,  6400.,  5600.,  5200.,\n",
       "        2000.,     0.,  6800.,  5600.,  3600.,  4000.,  4000.,  5200.,\n",
       "        4000.,  4800.,  5200.,  6400.,  6000.,  7200.,  2800.,  7200.,\n",
       "        6800.,  6000.,  4400.,   400.,  6400.,  1600.,  1600.,  6000.,\n",
       "        4000.,  1200.,  6000.,  6400.,     0.,  6800.,  4400.,  1600.,\n",
       "        4400.,  3600.,  5600.,  -800.,  3200.,  6400.,  7600., -1200.,\n",
       "        4800.,     0.,  -400.,  3600., -2400., -1600.,  6400.,  -800.,\n",
       "        2000.,  7200., -2800.,  4800.,  4000.,  4400.,  6800.,  4800.,\n",
       "        1200.,  5200., -4000.,  6000., -2000.,  2000.,  6800.,  5600.,\n",
       "         400.,  8400.,  2800.,  3600.,     0.,  4000.,  5600.,  5600.,\n",
       "        2400.,  7200.,  4000.,  8400.,  4000.,  5200.,  5600.,  6800.,\n",
       "        6800.,  5600.,  6400.,  4400.])"
      ]
     },
     "execution_count": 17,
     "metadata": {},
     "output_type": "execute_result"
    }
   ],
   "source": [
    "dfinfra['new_FCS'] = dfinfra['existing_num_FCS'].values + to_add\n",
    "dfinfra['new_FCS_cap'] = dfinfra['new_FCS'] * 400\n",
    "dfinfra['excess_charge_cap'] = dfinfra['parking_cap'] - (dfinfra['scs_cap'] + dfinfra['new_FCS_cap'])\n",
    "dfinfra['excess_charge_cap'].values"
   ]
  },
  {
   "cell_type": "code",
   "execution_count": 18,
   "id": "a42fc0af",
   "metadata": {},
   "outputs": [],
   "source": [
    "def adjusted_forecast(Dforecast=dfdemand['2018'].values[:, None], k=k):\n",
    "    parking_cap = dfinfra['parking_cap'].values\n",
    "    parking_cap.shape\n",
    "    excess_cap = dfinfra['excess_charge_cap'].values\n",
    "    excess = excess_charging_cap(Dforecast, k=k)\n",
    "    newval =  supply_demand().reshape(100, -1)\n",
    "    #print(newval)\n",
    "    max_sup_cap = []\n",
    "    \n",
    "    for i in range(len(excess)):\n",
    "        div_factor = excess[i]/(4096)\n",
    "        #print(div_factor)\n",
    "        max_sup_cap.append(newval[i] + div_factor)\n",
    "    max_sup_cap = np.asarray(max_sup_cap)#.reshape(4096, -1)\n",
    "    \n",
    "    forecasted = []\n",
    "    for i in range(4096):\n",
    "        for cap in max_sup_cap:\n",
    "            forecasted.append(cap[i])\n",
    "    forecasted = np.asarray(forecasted)\n",
    "    return forecasted"
   ]
  },
  {
   "cell_type": "code",
   "execution_count": 19,
   "id": "c81a4ca4",
   "metadata": {},
   "outputs": [
    {
     "data": {
      "text/plain": [
       "345529.6365968907"
      ]
     },
     "execution_count": 19,
     "metadata": {},
     "output_type": "execute_result"
    }
   ],
   "source": [
    "refined_forecast = adjusted_forecast()\n",
    "refined_forecast.sum()"
   ]
  },
  {
   "cell_type": "code",
   "execution_count": 20,
   "id": "8042fea8",
   "metadata": {},
   "outputs": [
    {
     "data": {
      "text/plain": [
       "(4096,)"
      ]
     },
     "execution_count": 20,
     "metadata": {},
     "output_type": "execute_result"
    }
   ],
   "source": [
    "forecasty = np.sum(refined_forecast.reshape(4096, -1), 1)\n",
    "forecasty.shape"
   ]
  },
  {
   "cell_type": "code",
   "execution_count": 21,
   "id": "c658df1d",
   "metadata": {},
   "outputs": [
    {
     "name": "stdout",
     "output_type": "stream",
     "text": [
      "175.0\n"
     ]
    },
    {
     "data": {
      "text/plain": [
       "array([3., 0., 0., 2., 0., 0., 0., 0., 4., 1., 6., 1., 2., 1., 0., 1., 5.,\n",
       "       8., 0., 0., 0., 0., 4., 0., 3., 0., 0., 2., 0., 4., 5., 0., 0., 0.,\n",
       "       6., 7., 0., 4., 2., 1., 0., 2., 0., 0., 3., 0., 0., 7., 0., 0., 0.,\n",
       "       6., 2., 0., 0., 7., 0., 6., 2., 3., 5., 8., 0., 1., 5., 0., 6., 0.,\n",
       "       0., 1., 0., 0., 3., 4., 7., 0., 6., 0., 0., 0., 0., 0., 0., 0., 5.,\n",
       "       0., 0., 1., 7., 0., 0., 0., 2., 0., 0., 3., 0., 0., 1., 0.])"
      ]
     },
     "execution_count": 21,
     "metadata": {},
     "output_type": "execute_result"
    }
   ],
   "source": [
    "infrastructure_to_add = add_infrastructure(Dforecast=forecasty[:, None])\n",
    "print(infrastructure_to_add.sum())\n",
    "infrastructure_to_add"
   ]
  },
  {
   "cell_type": "code",
   "execution_count": 22,
   "id": "e005ebc9",
   "metadata": {},
   "outputs": [
    {
     "data": {
      "text/plain": [
       "361529.6365968907"
      ]
     },
     "execution_count": 22,
     "metadata": {},
     "output_type": "execute_result"
    }
   ],
   "source": [
    "dfdemand['2018'].values[:, None].sum()"
   ]
  },
  {
   "cell_type": "code",
   "execution_count": null,
   "id": "055b31ae",
   "metadata": {},
   "outputs": [],
   "source": []
  },
  {
   "cell_type": "markdown",
   "id": "cf359898",
   "metadata": {},
   "source": [
    "## Naive forecasting to test our model and constraint satisfaction"
   ]
  },
  {
   "cell_type": "markdown",
   "id": "b9661911",
   "metadata": {},
   "source": [
    "#### Here I assume that the demand for 2019 is exactly the same\n",
    "as the demand for 2019 and that there is a +3 increase in all demand \n",
    "values "
   ]
  },
  {
   "cell_type": "markdown",
   "id": "413f0a0e",
   "metadata": {},
   "source": [
    "#### Forecasting for 2019"
   ]
  },
  {
   "cell_type": "markdown",
   "id": "b5c1dd75",
   "metadata": {},
   "source": [
    "The forecast is basically the 2018 data that I used as forecast to evaluate \n",
    "the constraints. All we need to do is to use the result in the refined forecast above and the result in infrastructure_to_add \n",
    "above, for adding infrastructures"
   ]
  },
  {
   "cell_type": "code",
   "execution_count": 23,
   "id": "a38ea8ee",
   "metadata": {},
   "outputs": [
    {
     "name": "stdout",
     "output_type": "stream",
     "text": [
      "619.0\n",
      "794.0\n"
     ]
    }
   ],
   "source": [
    "infrastructure_to_add = infrastructure_to_add.reshape(-1, 100)\n",
    "add_fcs_nineteen = infrastructure_to_add # since I optimized for fcs\n",
    "new_fcs_cap1 = dfinfra['existing_num_FCS'].values + add_fcs_nineteen\n",
    "sub_arr = sample_sub\n",
    "print(sub_arr['value'].values[100:200].sum())\n",
    "sub_arr['value'].values[100:200] = new_fcs_cap1\n",
    "print(sub_arr['value'].values[100:200].sum())"
   ]
  },
  {
   "cell_type": "markdown",
   "id": "260e3ac7",
   "metadata": {},
   "source": [
    "For demand values for 2019:"
   ]
  },
  {
   "cell_type": "code",
   "execution_count": 24,
   "id": "dbd300d1",
   "metadata": {},
   "outputs": [
    {
     "name": "stdout",
     "output_type": "stream",
     "text": [
      "361589.5405005043\n",
      "345529.6365968907\n"
     ]
    }
   ],
   "source": [
    "print(sub_arr['value'].values[200:409800].sum())\n",
    "sub_arr['value'].values[200:409800] = refined_forecast\n",
    "print(sub_arr['value'].values[200:409800].sum())"
   ]
  },
  {
   "cell_type": "markdown",
   "id": "8884e242",
   "metadata": {},
   "source": [
    "#### Forecasting for 2020"
   ]
  },
  {
   "cell_type": "code",
   "execution_count": 25,
   "id": "3e49b8bb",
   "metadata": {},
   "outputs": [],
   "source": [
    "twenty_forecast = dfdemand['2018'] + 3\n",
    "k=10"
   ]
  },
  {
   "cell_type": "code",
   "execution_count": 26,
   "id": "42fe9797",
   "metadata": {},
   "outputs": [
    {
     "data": {
      "text/plain": [
       "array([[0.],\n",
       "       [0.],\n",
       "       [0.],\n",
       "       ...,\n",
       "       [0.],\n",
       "       [0.],\n",
       "       [0.]])"
      ]
     },
     "execution_count": 26,
     "metadata": {},
     "output_type": "execute_result"
    }
   ],
   "source": [
    "supply_demand(twenty_forecast.values[:, None])\n"
   ]
  },
  {
   "cell_type": "code",
   "execution_count": 27,
   "id": "9a8ddef6",
   "metadata": {},
   "outputs": [],
   "source": [
    "dfinfra['scs_cap'] = dfinfra['existing_num_SCS']*200\n",
    "dfinfra['fcs_cap'] = dfinfra['existing_num_FCS']*400\n",
    "dfinfra['total_cap'] = dfinfra['scs_cap']+ dfinfra['fcs_cap']\n",
    "dfinfra['parking_cap'] = (dfinfra['total_parking_slots'] - dfinfra['existing_num_SCS']) * 400 + (dfinfra['existing_num_SCS']) * 200\n",
    "dfinfra['available_cap'] = dfinfra['parking_cap'] - dfinfra['total_cap']"
   ]
  },
  {
   "cell_type": "code",
   "execution_count": 28,
   "id": "e6e8a4d8",
   "metadata": {},
   "outputs": [
    {
     "data": {
      "text/plain": [
       "array([ 0.,  0.,  0.,  0.,  0.,  0.,  0.,  0.,  2.,  0.,  6.,  0.,  0.,\n",
       "        0.,  0.,  0.,  3.,  3.,  0.,  0.,  0.,  0.,  1.,  0.,  0.,  0.,\n",
       "        0.,  2.,  0.,  2.,  5.,  0.,  0.,  1.,  3.,  5.,  1.,  1.,  7.,\n",
       "        2.,  1., 12.,  1.,  1., 11.,  2.,  6., 11.,  0.,  1.,  1.,  9.,\n",
       "        9.,  0.,  0., 16.,  2., 11., 10.,  4., 11., 13.,  0.,  9., 10.,\n",
       "        0., 17.,  0.,  2.,  8.,  2.,  4., 10.,  5., 18.,  0.,  9.,  6.,\n",
       "        0.,  3.,  7.,  0.,  3.,  4.,  1.,  0.,  0.,  0.,  6.,  0.,  0.,\n",
       "        0.,  0.,  0.,  0.,  0.,  0.,  0.,  0.,  0.])"
      ]
     },
     "execution_count": 28,
     "metadata": {},
     "output_type": "execute_result"
    }
   ],
   "source": [
    "add_infrastructure(Dforecast=twenty_forecast.values[:, None])"
   ]
  },
  {
   "cell_type": "code",
   "execution_count": 29,
   "id": "7db8b5ac",
   "metadata": {},
   "outputs": [
    {
     "data": {
      "text/plain": [
       "array([    0.,     0.,     0.,     0.,     0.,     0.,     0.,     0.,\n",
       "           0.,     0.,     0.,     0.,     0.,     0.,     0.,     0.,\n",
       "           0.,     0.,     0.,     0.,     0.,     0.,     0.,     0.,\n",
       "           0.,     0.,     0.,     0.,     0.,     0.,     0.,     0.,\n",
       "           0.,     0.,     0.,     0.,     0.,     0.,     0.,     0.,\n",
       "           0.,     0.,     0.,     0.,     0.,     0.,     0.,     0.,\n",
       "           0.,     0.,     0.,  -800.,     0.,     0.,     0., -1600.,\n",
       "           0.,     0.,  -400.,     0., -2400., -2000.,     0.,  -800.,\n",
       "           0.,     0., -2800.,     0.,     0.,     0.,     0.,     0.,\n",
       "           0.,     0., -4400.,     0., -2000.,     0.,     0.,     0.,\n",
       "           0.,     0.,     0.,     0.,     0.,     0.,     0.,     0.,\n",
       "           0.,     0.,     0.,     0.,     0.,     0.,     0.,     0.,\n",
       "           0.,     0.,     0.,     0.])"
      ]
     },
     "execution_count": 29,
     "metadata": {},
     "output_type": "execute_result"
    }
   ],
   "source": [
    "excess_charging_cap(Dforecast=twenty_forecast.values[:, None], k=k)"
   ]
  },
  {
   "cell_type": "code",
   "execution_count": 30,
   "id": "5a93137f",
   "metadata": {},
   "outputs": [
    {
     "data": {
      "text/plain": [
       "array([ 6000.,  6400.,  4400.,  6400.,  6000.,  5200.,  3200.,  8000.,\n",
       "        7200.,  4000.,   800.,  3200.,  4800.,  6400.,  5600.,  5200.,\n",
       "        2000.,     0.,  6800.,  5600.,  3600.,  4000.,  4000.,  5200.,\n",
       "        4000.,  4800.,  5200.,  6400.,  6000.,  7200.,  2800.,  7200.,\n",
       "        6800.,  6000.,  4400.,   400.,  6400.,  1600.,  1600.,  6000.,\n",
       "        4000.,  1200.,  6000.,  6400.,     0.,  6800.,  4400.,  1600.,\n",
       "        4400.,  3600.,  5600.,  -800.,  3200.,  6400.,  7600., -1200.,\n",
       "        4800.,     0.,  -400.,  3600., -2400., -1600.,  6400.,  -800.,\n",
       "        2000.,  7200., -2800.,  4800.,  4000.,  4400.,  6800.,  4800.,\n",
       "        1200.,  5200., -4000.,  6000., -2000.,  2000.,  6800.,  5600.,\n",
       "         400.,  8400.,  2800.,  3600.,     0.,  4000.,  5600.,  5600.,\n",
       "        2400.,  7200.,  4000.,  8400.,  4000.,  5200.,  5600.,  6800.,\n",
       "        6800.,  5600.,  6400.,  4400.])"
      ]
     },
     "execution_count": 30,
     "metadata": {},
     "output_type": "execute_result"
    }
   ],
   "source": [
    "dfinfra['new_FCS'] = dfinfra['existing_num_FCS'].values + to_add\n",
    "dfinfra['new_FCS_cap'] = dfinfra['new_FCS'] * 400\n",
    "dfinfra['excess_charge_cap'] = dfinfra['parking_cap'] - (dfinfra['scs_cap'] + dfinfra['new_FCS_cap'])\n",
    "dfinfra['excess_charge_cap'].values"
   ]
  },
  {
   "cell_type": "code",
   "execution_count": 31,
   "id": "8c64dddd",
   "metadata": {},
   "outputs": [
    {
     "data": {
      "text/plain": [
       "373817.6365968907"
      ]
     },
     "execution_count": 31,
     "metadata": {},
     "output_type": "execute_result"
    }
   ],
   "source": [
    "twenty_forecast.values.sum()"
   ]
  },
  {
   "cell_type": "code",
   "execution_count": 32,
   "id": "fa7356bb",
   "metadata": {},
   "outputs": [
    {
     "data": {
      "text/plain": [
       "array([0.        , 0.        , 5.85623275, ..., 0.        , 0.6789755 ,\n",
       "       0.        ])"
      ]
     },
     "execution_count": 32,
     "metadata": {},
     "output_type": "execute_result"
    }
   ],
   "source": [
    "adjusted_forecast(Dforecast=twenty_forecast.values[:, None], k=k)"
   ]
  },
  {
   "cell_type": "code",
   "execution_count": 33,
   "id": "7a673d5a",
   "metadata": {},
   "outputs": [
    {
     "data": {
      "text/plain": [
       "array([0.        , 0.        , 5.85623275, ..., 0.        , 0.6789755 ,\n",
       "       0.        ])"
      ]
     },
     "execution_count": 33,
     "metadata": {},
     "output_type": "execute_result"
    }
   ],
   "source": [
    "adjusted_forecast()"
   ]
  },
  {
   "cell_type": "code",
   "execution_count": 34,
   "id": "fe89783a",
   "metadata": {},
   "outputs": [],
   "source": [
    "refined_forecast_twenty = adjusted_forecast(Dforecast=twenty_forecast.values[:, None], k=k)"
   ]
  },
  {
   "cell_type": "code",
   "execution_count": 35,
   "id": "145536bc",
   "metadata": {},
   "outputs": [
    {
     "data": {
      "text/plain": [
       "(4096,)"
      ]
     },
     "execution_count": 35,
     "metadata": {},
     "output_type": "execute_result"
    }
   ],
   "source": [
    "forecasty2 = np.sum(refined_forecast_twenty.reshape(4096, -1), 1)\n",
    "forecasty2.shape"
   ]
  },
  {
   "cell_type": "code",
   "execution_count": 36,
   "id": "bbf28a97",
   "metadata": {},
   "outputs": [
    {
     "data": {
      "text/plain": [
       "array([ 41.38746297,  98.8781994 , 124.19859965, ...,  54.37862105,\n",
       "        40.87988231,  92.08054368])"
      ]
     },
     "execution_count": 36,
     "metadata": {},
     "output_type": "execute_result"
    }
   ],
   "source": [
    "forecasty2"
   ]
  },
  {
   "cell_type": "code",
   "execution_count": null,
   "id": "70e991cd",
   "metadata": {},
   "outputs": [],
   "source": []
  },
  {
   "cell_type": "code",
   "execution_count": 37,
   "id": "96730055",
   "metadata": {},
   "outputs": [
    {
     "name": "stdout",
     "output_type": "stream",
     "text": [
      "173.0\n"
     ]
    },
    {
     "data": {
      "text/plain": [
       "array([3., 0., 0., 2., 0., 0., 0., 0., 4., 1., 6., 1., 2., 1., 0., 1., 5.,\n",
       "       8., 0., 0., 0., 0., 4., 0., 3., 0., 0., 2., 0., 4., 5., 0., 0., 0.,\n",
       "       5., 7., 0., 4., 2., 1., 0., 2., 0., 0., 3., 0., 0., 7., 0., 0., 0.,\n",
       "       6., 1., 0., 0., 7., 0., 6., 2., 3., 5., 8., 0., 1., 5., 0., 6., 0.,\n",
       "       0., 1., 0., 0., 3., 4., 7., 0., 6., 0., 0., 0., 0., 0., 0., 0., 5.,\n",
       "       0., 0., 1., 7., 0., 0., 0., 2., 0., 0., 3., 0., 0., 1., 0.])"
      ]
     },
     "execution_count": 37,
     "metadata": {},
     "output_type": "execute_result"
    }
   ],
   "source": [
    "infrastructure_to_add2 = add_infrastructure(Dforecast=forecasty2[:, None])\n",
    "print(infrastructure_to_add2.sum())\n",
    "infrastructure_to_add2"
   ]
  },
  {
   "cell_type": "code",
   "execution_count": 38,
   "id": "a42281b3",
   "metadata": {},
   "outputs": [
    {
     "name": "stdout",
     "output_type": "stream",
     "text": [
      "[ 3.  7. 14.  5.  6.  6.  8.  6.  1.  5.  0.  4.  5.  5. 12.  6.  2.  0.\n",
      "  8.  8.  8.  8.  4.  7.  3. 10. 11.  4.  6.  3.  2.  9. 10.  7.  1.  1.\n",
      "  9.  4.  4.  6.  6.  4.  4. 10.  6.  6.  8.  1. 10. 13.  8.  1.  7. 16.\n",
      " 10.  1.  9.  1.  3.  3.  3.  0. 10.  5.  2. 11.  2. 13.  9.  6.  8.  7.\n",
      "  1.  4.  1. 15.  2. 11.  8.  6.  9.  7.  7.  6.  2.  7.  7.  5.  1. 10.\n",
      "  5. 12.  3.  6.  9.  4. 10. 14.  5. 11.]\n"
     ]
    }
   ],
   "source": [
    "print(sample_sub['value'].values[409900:410000])"
   ]
  },
  {
   "cell_type": "code",
   "execution_count": 39,
   "id": "4d57594d",
   "metadata": {},
   "outputs": [
    {
     "name": "stdout",
     "output_type": "stream",
     "text": [
      "0      3\n",
      "1      7\n",
      "2     14\n",
      "3      5\n",
      "4      6\n",
      "      ..\n",
      "95     4\n",
      "96    10\n",
      "97    14\n",
      "98     5\n",
      "99    11\n",
      "Name: existing_num_FCS, Length: 100, dtype: int64\n",
      "[[ 6.  7. 14.  7.  6.  6.  8.  6.  5.  6.  6.  5.  7.  6. 12.  7.  7.  8.\n",
      "   8.  8.  8.  8.  8.  7.  6. 10. 11.  6.  6.  7.  7.  9. 10.  7.  6.  8.\n",
      "   9.  8.  6.  7.  6.  6.  4. 10.  9.  6.  8.  8. 10. 13.  8.  7.  8. 16.\n",
      "  10.  8.  9.  7.  5.  6.  8.  8. 10.  6.  7. 11.  8. 13.  9.  7.  8.  7.\n",
      "   4.  8.  8. 15.  8. 11.  8.  6.  9.  7.  7.  6.  7.  7.  7.  6.  8. 10.\n",
      "   5. 12.  5.  6.  9.  7. 10. 14.  6. 11.]]\n",
      "[ 6.  7. 14.  7.  6.  6.  8.  6.  5.  6.  6.  5.  7.  6. 12.  7.  7.  8.\n",
      "  8.  8.  8.  8.  8.  7.  6. 10. 11.  6.  6.  7.  7.  9. 10.  7.  6.  8.\n",
      "  9.  8.  6.  7.  6.  6.  4. 10.  9.  6.  8.  8. 10. 13.  8.  7.  8. 16.\n",
      " 10.  8.  9.  7.  5.  6.  8.  8. 10.  6.  7. 11.  8. 13.  9.  7.  8.  7.\n",
      "  4.  8.  8. 15.  8. 11.  8.  6.  9.  7.  7.  6.  7.  7.  7.  6.  8. 10.\n",
      "  5. 12.  5.  6.  9.  7. 10. 14.  6. 11.]\n"
     ]
    }
   ],
   "source": [
    "infrastructure_to_add2 = infrastructure_to_add2.reshape(-1, 100)\n",
    "add_fcs_twenty = infrastructure_to_add2 # since I optimized for fcs\n",
    "print(dfinfra['existing_num_FCS'])\n",
    "new_fcs_cap2 = dfinfra['existing_num_FCS'].values + add_fcs_twenty\n",
    "print(new_fcs_cap2)\n",
    "sub_arr['value'].values[409900:410000] = new_fcs_cap2\n",
    "print(sub_arr['value'].values[409900:410000])"
   ]
  },
  {
   "cell_type": "code",
   "execution_count": 40,
   "id": "edcc4ed0",
   "metadata": {},
   "outputs": [
    {
     "data": {
      "text/plain": [
       "709845.1770973953"
      ]
     },
     "execution_count": 40,
     "metadata": {},
     "output_type": "execute_result"
    }
   ],
   "source": [
    "sub_arr['value'].values.sum()"
   ]
  },
  {
   "cell_type": "code",
   "execution_count": 41,
   "id": "b9816ac4",
   "metadata": {},
   "outputs": [
    {
     "data": {
      "text/plain": [
       "709845.1770973953"
      ]
     },
     "execution_count": 41,
     "metadata": {},
     "output_type": "execute_result"
    }
   ],
   "source": [
    "sample_sub['value'].values.sum()"
   ]
  },
  {
   "cell_type": "markdown",
   "id": "7ccee0d4",
   "metadata": {},
   "source": [
    "#### For demand values in 2020"
   ]
  },
  {
   "cell_type": "code",
   "execution_count": 42,
   "id": "005086cd",
   "metadata": {},
   "outputs": [
    {
     "name": "stdout",
     "output_type": "stream",
     "text": [
      "361589.5405005043\n"
     ]
    }
   ],
   "source": [
    "print(sub_arr['value'].values[410000:].sum())"
   ]
  },
  {
   "cell_type": "code",
   "execution_count": 43,
   "id": "8d98ffbb",
   "metadata": {},
   "outputs": [
    {
     "name": "stdout",
     "output_type": "stream",
     "text": [
      "345529.6365968907\n"
     ]
    }
   ],
   "source": [
    "sub_arr['value'].values[410000:] = refined_forecast\n",
    "print(sub_arr['value'].values[410000:].sum())"
   ]
  },
  {
   "cell_type": "code",
   "execution_count": 44,
   "id": "99c34bb5",
   "metadata": {},
   "outputs": [
    {
     "data": {
      "text/html": [
       "<div>\n",
       "<style scoped>\n",
       "    .dataframe tbody tr th:only-of-type {\n",
       "        vertical-align: middle;\n",
       "    }\n",
       "\n",
       "    .dataframe tbody tr th {\n",
       "        vertical-align: top;\n",
       "    }\n",
       "\n",
       "    .dataframe thead th {\n",
       "        text-align: right;\n",
       "    }\n",
       "</style>\n",
       "<table border=\"1\" class=\"dataframe\">\n",
       "  <thead>\n",
       "    <tr style=\"text-align: right;\">\n",
       "      <th></th>\n",
       "      <th>supply_point_index</th>\n",
       "      <th>x_coordinate</th>\n",
       "      <th>y_coordinate</th>\n",
       "      <th>total_parking_slots</th>\n",
       "      <th>existing_num_SCS</th>\n",
       "      <th>existing_num_FCS</th>\n",
       "      <th>scs_cap</th>\n",
       "      <th>fcs_cap</th>\n",
       "      <th>total_cap</th>\n",
       "      <th>parking_cap</th>\n",
       "      <th>available_cap</th>\n",
       "      <th>add_cap</th>\n",
       "      <th>excess_cap</th>\n",
       "      <th>new_FCS</th>\n",
       "      <th>new_FCS_cap</th>\n",
       "      <th>excess_charge_cap</th>\n",
       "    </tr>\n",
       "  </thead>\n",
       "  <tbody>\n",
       "    <tr>\n",
       "      <th>0</th>\n",
       "      <td>0</td>\n",
       "      <td>50.163110</td>\n",
       "      <td>19.412014</td>\n",
       "      <td>23</td>\n",
       "      <td>5</td>\n",
       "      <td>3</td>\n",
       "      <td>1000</td>\n",
       "      <td>1200</td>\n",
       "      <td>2200</td>\n",
       "      <td>8200</td>\n",
       "      <td>6000</td>\n",
       "      <td>0.0</td>\n",
       "      <td>6000.0</td>\n",
       "      <td>3.0</td>\n",
       "      <td>1200.0</td>\n",
       "      <td>6000.0</td>\n",
       "    </tr>\n",
       "    <tr>\n",
       "      <th>1</th>\n",
       "      <td>1</td>\n",
       "      <td>37.336451</td>\n",
       "      <td>58.119225</td>\n",
       "      <td>27</td>\n",
       "      <td>4</td>\n",
       "      <td>7</td>\n",
       "      <td>800</td>\n",
       "      <td>2800</td>\n",
       "      <td>3600</td>\n",
       "      <td>10000</td>\n",
       "      <td>6400</td>\n",
       "      <td>0.0</td>\n",
       "      <td>6400.0</td>\n",
       "      <td>7.0</td>\n",
       "      <td>2800.0</td>\n",
       "      <td>6400.0</td>\n",
       "    </tr>\n",
       "    <tr>\n",
       "      <th>2</th>\n",
       "      <td>2</td>\n",
       "      <td>46.709232</td>\n",
       "      <td>57.525650</td>\n",
       "      <td>31</td>\n",
       "      <td>6</td>\n",
       "      <td>14</td>\n",
       "      <td>1200</td>\n",
       "      <td>5600</td>\n",
       "      <td>6800</td>\n",
       "      <td>11200</td>\n",
       "      <td>4400</td>\n",
       "      <td>0.0</td>\n",
       "      <td>4400.0</td>\n",
       "      <td>14.0</td>\n",
       "      <td>5600.0</td>\n",
       "      <td>4400.0</td>\n",
       "    </tr>\n",
       "    <tr>\n",
       "      <th>3</th>\n",
       "      <td>3</td>\n",
       "      <td>30.528626</td>\n",
       "      <td>55.379835</td>\n",
       "      <td>26</td>\n",
       "      <td>5</td>\n",
       "      <td>5</td>\n",
       "      <td>1000</td>\n",
       "      <td>2000</td>\n",
       "      <td>3000</td>\n",
       "      <td>9400</td>\n",
       "      <td>6400</td>\n",
       "      <td>0.0</td>\n",
       "      <td>6400.0</td>\n",
       "      <td>5.0</td>\n",
       "      <td>2000.0</td>\n",
       "      <td>6400.0</td>\n",
       "    </tr>\n",
       "    <tr>\n",
       "      <th>4</th>\n",
       "      <td>4</td>\n",
       "      <td>51.521781</td>\n",
       "      <td>35.116755</td>\n",
       "      <td>32</td>\n",
       "      <td>11</td>\n",
       "      <td>6</td>\n",
       "      <td>2200</td>\n",
       "      <td>2400</td>\n",
       "      <td>4600</td>\n",
       "      <td>10600</td>\n",
       "      <td>6000</td>\n",
       "      <td>0.0</td>\n",
       "      <td>6000.0</td>\n",
       "      <td>6.0</td>\n",
       "      <td>2400.0</td>\n",
       "      <td>6000.0</td>\n",
       "    </tr>\n",
       "  </tbody>\n",
       "</table>\n",
       "</div>"
      ],
      "text/plain": [
       "   supply_point_index  x_coordinate  y_coordinate  total_parking_slots  \\\n",
       "0                   0     50.163110     19.412014                   23   \n",
       "1                   1     37.336451     58.119225                   27   \n",
       "2                   2     46.709232     57.525650                   31   \n",
       "3                   3     30.528626     55.379835                   26   \n",
       "4                   4     51.521781     35.116755                   32   \n",
       "\n",
       "   existing_num_SCS  existing_num_FCS  scs_cap  fcs_cap  total_cap  \\\n",
       "0                 5                 3     1000     1200       2200   \n",
       "1                 4                 7      800     2800       3600   \n",
       "2                 6                14     1200     5600       6800   \n",
       "3                 5                 5     1000     2000       3000   \n",
       "4                11                 6     2200     2400       4600   \n",
       "\n",
       "   parking_cap  available_cap  add_cap  excess_cap  new_FCS  new_FCS_cap  \\\n",
       "0         8200           6000      0.0      6000.0      3.0       1200.0   \n",
       "1        10000           6400      0.0      6400.0      7.0       2800.0   \n",
       "2        11200           4400      0.0      4400.0     14.0       5600.0   \n",
       "3         9400           6400      0.0      6400.0      5.0       2000.0   \n",
       "4        10600           6000      0.0      6000.0      6.0       2400.0   \n",
       "\n",
       "   excess_charge_cap  \n",
       "0             6000.0  \n",
       "1             6400.0  \n",
       "2             4400.0  \n",
       "3             6400.0  \n",
       "4             6000.0  "
      ]
     },
     "execution_count": 44,
     "metadata": {},
     "output_type": "execute_result"
    }
   ],
   "source": [
    "dfinfra.head()"
   ]
  },
  {
   "cell_type": "code",
   "execution_count": 45,
   "id": "dce308cb",
   "metadata": {},
   "outputs": [
    {
     "data": {
      "text/html": [
       "<div>\n",
       "<style scoped>\n",
       "    .dataframe tbody tr th:only-of-type {\n",
       "        vertical-align: middle;\n",
       "    }\n",
       "\n",
       "    .dataframe tbody tr th {\n",
       "        vertical-align: top;\n",
       "    }\n",
       "\n",
       "    .dataframe thead th {\n",
       "        text-align: right;\n",
       "    }\n",
       "</style>\n",
       "<table border=\"1\" class=\"dataframe\">\n",
       "  <thead>\n",
       "    <tr style=\"text-align: right;\">\n",
       "      <th></th>\n",
       "      <th>year</th>\n",
       "      <th>data_type</th>\n",
       "      <th>demand_point_index</th>\n",
       "      <th>supply_point_index</th>\n",
       "      <th>value</th>\n",
       "    </tr>\n",
       "  </thead>\n",
       "  <tbody>\n",
       "    <tr>\n",
       "      <th>100</th>\n",
       "      <td>2019</td>\n",
       "      <td>FCS</td>\n",
       "      <td>NaN</td>\n",
       "      <td>0</td>\n",
       "      <td>6.000000</td>\n",
       "    </tr>\n",
       "    <tr>\n",
       "      <th>101</th>\n",
       "      <td>2019</td>\n",
       "      <td>FCS</td>\n",
       "      <td>NaN</td>\n",
       "      <td>1</td>\n",
       "      <td>7.000000</td>\n",
       "    </tr>\n",
       "    <tr>\n",
       "      <th>102</th>\n",
       "      <td>2019</td>\n",
       "      <td>FCS</td>\n",
       "      <td>NaN</td>\n",
       "      <td>2</td>\n",
       "      <td>14.000000</td>\n",
       "    </tr>\n",
       "    <tr>\n",
       "      <th>103</th>\n",
       "      <td>2019</td>\n",
       "      <td>FCS</td>\n",
       "      <td>NaN</td>\n",
       "      <td>3</td>\n",
       "      <td>7.000000</td>\n",
       "    </tr>\n",
       "    <tr>\n",
       "      <th>104</th>\n",
       "      <td>2019</td>\n",
       "      <td>FCS</td>\n",
       "      <td>NaN</td>\n",
       "      <td>4</td>\n",
       "      <td>6.000000</td>\n",
       "    </tr>\n",
       "    <tr>\n",
       "      <th>...</th>\n",
       "      <td>...</td>\n",
       "      <td>...</td>\n",
       "      <td>...</td>\n",
       "      <td>...</td>\n",
       "      <td>...</td>\n",
       "    </tr>\n",
       "    <tr>\n",
       "      <th>819595</th>\n",
       "      <td>2020</td>\n",
       "      <td>DS</td>\n",
       "      <td>4095.0</td>\n",
       "      <td>95</td>\n",
       "      <td>0.000000</td>\n",
       "    </tr>\n",
       "    <tr>\n",
       "      <th>819596</th>\n",
       "      <td>2020</td>\n",
       "      <td>DS</td>\n",
       "      <td>4095.0</td>\n",
       "      <td>96</td>\n",
       "      <td>0.000000</td>\n",
       "    </tr>\n",
       "    <tr>\n",
       "      <th>819597</th>\n",
       "      <td>2020</td>\n",
       "      <td>DS</td>\n",
       "      <td>4095.0</td>\n",
       "      <td>97</td>\n",
       "      <td>0.000000</td>\n",
       "    </tr>\n",
       "    <tr>\n",
       "      <th>819598</th>\n",
       "      <td>2020</td>\n",
       "      <td>DS</td>\n",
       "      <td>4095.0</td>\n",
       "      <td>98</td>\n",
       "      <td>0.678976</td>\n",
       "    </tr>\n",
       "    <tr>\n",
       "      <th>819599</th>\n",
       "      <td>2020</td>\n",
       "      <td>DS</td>\n",
       "      <td>4095.0</td>\n",
       "      <td>99</td>\n",
       "      <td>0.000000</td>\n",
       "    </tr>\n",
       "  </tbody>\n",
       "</table>\n",
       "<p>819500 rows × 5 columns</p>\n",
       "</div>"
      ],
      "text/plain": [
       "        year data_type  demand_point_index  supply_point_index      value\n",
       "100     2019       FCS                 NaN                   0   6.000000\n",
       "101     2019       FCS                 NaN                   1   7.000000\n",
       "102     2019       FCS                 NaN                   2  14.000000\n",
       "103     2019       FCS                 NaN                   3   7.000000\n",
       "104     2019       FCS                 NaN                   4   6.000000\n",
       "...      ...       ...                 ...                 ...        ...\n",
       "819595  2020        DS              4095.0                  95   0.000000\n",
       "819596  2020        DS              4095.0                  96   0.000000\n",
       "819597  2020        DS              4095.0                  97   0.000000\n",
       "819598  2020        DS              4095.0                  98   0.678976\n",
       "819599  2020        DS              4095.0                  99   0.000000\n",
       "\n",
       "[819500 rows x 5 columns]"
      ]
     },
     "execution_count": 45,
     "metadata": {},
     "output_type": "execute_result"
    }
   ],
   "source": [
    "sub_arr[100:]"
   ]
  },
  {
   "cell_type": "code",
   "execution_count": 60,
   "id": "e18180fa",
   "metadata": {},
   "outputs": [],
   "source": [
    "dfinfra['total_slot_19'] = sub_arr['value'][:100] + sub_arr['value'][100:200] \n",
    "dfinfra['total_slot_20'] = sub_arr['value'][409800:409900] + sub_arr['value'][409900:410000] "
   ]
  },
  {
   "cell_type": "code",
   "execution_count": 71,
   "id": "76386ce2",
   "metadata": {},
   "outputs": [
    {
     "name": "stdout",
     "output_type": "stream",
     "text": [
      "Empty DataFrame\n",
      "Columns: [supply_point_index, x_coordinate, y_coordinate, total_parking_slots, existing_num_SCS, existing_num_FCS, scs_cap, fcs_cap, total_cap, parking_cap, available_cap, add_cap, excess_cap, new_FCS, new_FCS_cap, excess_charge_cap, total_slot_19, total_slot_20]\n",
      "Index: []\n",
      "Empty DataFrame\n",
      "Columns: [supply_point_index, x_coordinate, y_coordinate, total_parking_slots, existing_num_SCS, existing_num_FCS, scs_cap, fcs_cap, total_cap, parking_cap, available_cap, add_cap, excess_cap, new_FCS, new_FCS_cap, excess_charge_cap, total_slot_19, total_slot_20]\n",
      "Index: []\n"
     ]
    }
   ],
   "source": [
    "#Double checking for constraint 3\n",
    "dfinfra.head()\n",
    "print(dfinfra.where(dfinfra['total_parking_slots'] < dfinfra['total_slot_19']).dropna(axis=0))\n",
    "print(dfinfra.where(dfinfra['total_parking_slots'] < dfinfra['total_slot_20']).dropna(axis=0))"
   ]
  },
  {
   "cell_type": "code",
   "execution_count": 48,
   "id": "0e758084",
   "metadata": {},
   "outputs": [
    {
     "name": "stderr",
     "output_type": "stream",
     "text": [
      "C:\\Users\\BABATUNDE\\AppData\\Local\\Temp\\ipykernel_7548\\2951237892.py:4: SettingWithCopyWarning: \n",
      "A value is trying to be set on a copy of a slice from a DataFrame\n",
      "\n",
      "See the caveats in the documentation: https://pandas.pydata.org/pandas-docs/stable/user_guide/indexing.html#returning-a-view-versus-a-copy\n",
      "  sub_arr['value'][i] = 0\n"
     ]
    }
   ],
   "source": [
    "# Double checking to ensure adherence to constraint 3\n",
    "for i in range(len(sub_arr['value'])):\n",
    "    if sub_arr['value'][i] < 0:\n",
    "        sub_arr['value'][i] = 0"
   ]
  },
  {
   "cell_type": "code",
   "execution_count": 65,
   "id": "74625dac",
   "metadata": {},
   "outputs": [
    {
     "data": {
      "text/html": [
       "<div>\n",
       "<style scoped>\n",
       "    .dataframe tbody tr th:only-of-type {\n",
       "        vertical-align: middle;\n",
       "    }\n",
       "\n",
       "    .dataframe tbody tr th {\n",
       "        vertical-align: top;\n",
       "    }\n",
       "\n",
       "    .dataframe thead th {\n",
       "        text-align: right;\n",
       "    }\n",
       "</style>\n",
       "<table border=\"1\" class=\"dataframe\">\n",
       "  <thead>\n",
       "    <tr style=\"text-align: right;\">\n",
       "      <th></th>\n",
       "      <th>year</th>\n",
       "      <th>data_type</th>\n",
       "      <th>demand_point_index</th>\n",
       "      <th>supply_point_index</th>\n",
       "      <th>value</th>\n",
       "    </tr>\n",
       "  </thead>\n",
       "  <tbody>\n",
       "    <tr>\n",
       "      <th>0</th>\n",
       "      <td>2019</td>\n",
       "      <td>SCS</td>\n",
       "      <td>NaN</td>\n",
       "      <td>0</td>\n",
       "      <td>5.0</td>\n",
       "    </tr>\n",
       "    <tr>\n",
       "      <th>1</th>\n",
       "      <td>2019</td>\n",
       "      <td>SCS</td>\n",
       "      <td>NaN</td>\n",
       "      <td>1</td>\n",
       "      <td>4.0</td>\n",
       "    </tr>\n",
       "    <tr>\n",
       "      <th>2</th>\n",
       "      <td>2019</td>\n",
       "      <td>SCS</td>\n",
       "      <td>NaN</td>\n",
       "      <td>2</td>\n",
       "      <td>6.0</td>\n",
       "    </tr>\n",
       "    <tr>\n",
       "      <th>3</th>\n",
       "      <td>2019</td>\n",
       "      <td>SCS</td>\n",
       "      <td>NaN</td>\n",
       "      <td>3</td>\n",
       "      <td>5.0</td>\n",
       "    </tr>\n",
       "    <tr>\n",
       "      <th>4</th>\n",
       "      <td>2019</td>\n",
       "      <td>SCS</td>\n",
       "      <td>NaN</td>\n",
       "      <td>4</td>\n",
       "      <td>11.0</td>\n",
       "    </tr>\n",
       "  </tbody>\n",
       "</table>\n",
       "</div>"
      ],
      "text/plain": [
       "   year data_type  demand_point_index  supply_point_index  value\n",
       "0  2019       SCS                 NaN                   0    5.0\n",
       "1  2019       SCS                 NaN                   1    4.0\n",
       "2  2019       SCS                 NaN                   2    6.0\n",
       "3  2019       SCS                 NaN                   3    5.0\n",
       "4  2019       SCS                 NaN                   4   11.0"
      ]
     },
     "execution_count": 65,
     "metadata": {},
     "output_type": "execute_result"
    }
   ],
   "source": [
    "sub_arr.head()"
   ]
  },
  {
   "cell_type": "code",
   "execution_count": 69,
   "id": "21d88286",
   "metadata": {},
   "outputs": [
    {
     "data": {
      "text/plain": [
       "0     5.0\n",
       "1     4.0\n",
       "2     6.0\n",
       "3     5.0\n",
       "4    11.0\n",
       "Name: value, dtype: float64"
      ]
     },
     "execution_count": 69,
     "metadata": {},
     "output_type": "execute_result"
    }
   ],
   "source": [
    "sub_arr['value'].head()"
   ]
  },
  {
   "cell_type": "code",
   "execution_count": 66,
   "id": "a49034b0",
   "metadata": {},
   "outputs": [],
   "source": [
    "sub_arr.to_csv('eighty.csv')"
   ]
  },
  {
   "cell_type": "code",
   "execution_count": 67,
   "id": "5faa750c",
   "metadata": {},
   "outputs": [
    {
     "data": {
      "text/html": [
       "<div>\n",
       "<style scoped>\n",
       "    .dataframe tbody tr th:only-of-type {\n",
       "        vertical-align: middle;\n",
       "    }\n",
       "\n",
       "    .dataframe tbody tr th {\n",
       "        vertical-align: top;\n",
       "    }\n",
       "\n",
       "    .dataframe thead th {\n",
       "        text-align: right;\n",
       "    }\n",
       "</style>\n",
       "<table border=\"1\" class=\"dataframe\">\n",
       "  <thead>\n",
       "    <tr style=\"text-align: right;\">\n",
       "      <th></th>\n",
       "      <th>Unnamed: 0</th>\n",
       "      <th>year</th>\n",
       "      <th>data_type</th>\n",
       "      <th>demand_point_index</th>\n",
       "      <th>supply_point_index</th>\n",
       "      <th>value</th>\n",
       "    </tr>\n",
       "  </thead>\n",
       "  <tbody>\n",
       "    <tr>\n",
       "      <th>0</th>\n",
       "      <td>0</td>\n",
       "      <td>2019</td>\n",
       "      <td>SCS</td>\n",
       "      <td>NaN</td>\n",
       "      <td>0</td>\n",
       "      <td>5.000000</td>\n",
       "    </tr>\n",
       "    <tr>\n",
       "      <th>1</th>\n",
       "      <td>1</td>\n",
       "      <td>2019</td>\n",
       "      <td>SCS</td>\n",
       "      <td>NaN</td>\n",
       "      <td>1</td>\n",
       "      <td>4.000000</td>\n",
       "    </tr>\n",
       "    <tr>\n",
       "      <th>2</th>\n",
       "      <td>2</td>\n",
       "      <td>2019</td>\n",
       "      <td>SCS</td>\n",
       "      <td>NaN</td>\n",
       "      <td>2</td>\n",
       "      <td>6.000000</td>\n",
       "    </tr>\n",
       "    <tr>\n",
       "      <th>3</th>\n",
       "      <td>3</td>\n",
       "      <td>2019</td>\n",
       "      <td>SCS</td>\n",
       "      <td>NaN</td>\n",
       "      <td>3</td>\n",
       "      <td>5.000000</td>\n",
       "    </tr>\n",
       "    <tr>\n",
       "      <th>4</th>\n",
       "      <td>4</td>\n",
       "      <td>2019</td>\n",
       "      <td>SCS</td>\n",
       "      <td>NaN</td>\n",
       "      <td>4</td>\n",
       "      <td>11.000000</td>\n",
       "    </tr>\n",
       "    <tr>\n",
       "      <th>...</th>\n",
       "      <td>...</td>\n",
       "      <td>...</td>\n",
       "      <td>...</td>\n",
       "      <td>...</td>\n",
       "      <td>...</td>\n",
       "      <td>...</td>\n",
       "    </tr>\n",
       "    <tr>\n",
       "      <th>819595</th>\n",
       "      <td>819595</td>\n",
       "      <td>2020</td>\n",
       "      <td>DS</td>\n",
       "      <td>4095.0</td>\n",
       "      <td>95</td>\n",
       "      <td>0.000000</td>\n",
       "    </tr>\n",
       "    <tr>\n",
       "      <th>819596</th>\n",
       "      <td>819596</td>\n",
       "      <td>2020</td>\n",
       "      <td>DS</td>\n",
       "      <td>4095.0</td>\n",
       "      <td>96</td>\n",
       "      <td>0.000000</td>\n",
       "    </tr>\n",
       "    <tr>\n",
       "      <th>819597</th>\n",
       "      <td>819597</td>\n",
       "      <td>2020</td>\n",
       "      <td>DS</td>\n",
       "      <td>4095.0</td>\n",
       "      <td>97</td>\n",
       "      <td>0.000000</td>\n",
       "    </tr>\n",
       "    <tr>\n",
       "      <th>819598</th>\n",
       "      <td>819598</td>\n",
       "      <td>2020</td>\n",
       "      <td>DS</td>\n",
       "      <td>4095.0</td>\n",
       "      <td>98</td>\n",
       "      <td>0.678976</td>\n",
       "    </tr>\n",
       "    <tr>\n",
       "      <th>819599</th>\n",
       "      <td>819599</td>\n",
       "      <td>2020</td>\n",
       "      <td>DS</td>\n",
       "      <td>4095.0</td>\n",
       "      <td>99</td>\n",
       "      <td>0.000000</td>\n",
       "    </tr>\n",
       "  </tbody>\n",
       "</table>\n",
       "<p>819600 rows × 6 columns</p>\n",
       "</div>"
      ],
      "text/plain": [
       "        Unnamed: 0  year data_type  demand_point_index  supply_point_index  \\\n",
       "0                0  2019       SCS                 NaN                   0   \n",
       "1                1  2019       SCS                 NaN                   1   \n",
       "2                2  2019       SCS                 NaN                   2   \n",
       "3                3  2019       SCS                 NaN                   3   \n",
       "4                4  2019       SCS                 NaN                   4   \n",
       "...            ...   ...       ...                 ...                 ...   \n",
       "819595      819595  2020        DS              4095.0                  95   \n",
       "819596      819596  2020        DS              4095.0                  96   \n",
       "819597      819597  2020        DS              4095.0                  97   \n",
       "819598      819598  2020        DS              4095.0                  98   \n",
       "819599      819599  2020        DS              4095.0                  99   \n",
       "\n",
       "            value  \n",
       "0        5.000000  \n",
       "1        4.000000  \n",
       "2        6.000000  \n",
       "3        5.000000  \n",
       "4       11.000000  \n",
       "...           ...  \n",
       "819595   0.000000  \n",
       "819596   0.000000  \n",
       "819597   0.000000  \n",
       "819598   0.678976  \n",
       "819599   0.000000  \n",
       "\n",
       "[819600 rows x 6 columns]"
      ]
     },
     "execution_count": 67,
     "metadata": {},
     "output_type": "execute_result"
    }
   ],
   "source": [
    "df = pd.read_csv('eighty.csv')\n",
    "df"
   ]
  },
  {
   "cell_type": "code",
   "execution_count": 52,
   "id": "e0c8fc6d",
   "metadata": {},
   "outputs": [
    {
     "name": "stderr",
     "output_type": "stream",
     "text": [
      "C:\\Users\\BABATUNDE\\AppData\\Local\\Temp\\ipykernel_7548\\2988834060.py:3: SettingWithCopyWarning: \n",
      "A value is trying to be set on a copy of a slice from a DataFrame\n",
      "\n",
      "See the caveats in the documentation: https://pandas.pydata.org/pandas-docs/stable/user_guide/indexing.html#returning-a-view-versus-a-copy\n",
      "  df['value'][i] = 0\n"
     ]
    }
   ],
   "source": [
    "for i in range(len(df['value'])):\n",
    "    if df['value'][i] < 0:\n",
    "        df['value'][i] = 0"
   ]
  },
  {
   "cell_type": "code",
   "execution_count": 53,
   "id": "319c49f6",
   "metadata": {},
   "outputs": [
    {
     "data": {
      "text/plain": [
       "0.0"
      ]
     },
     "execution_count": 53,
     "metadata": {},
     "output_type": "execute_result"
    }
   ],
   "source": [
    "df['value'].min()"
   ]
  },
  {
   "cell_type": "code",
   "execution_count": 54,
   "id": "3fb46706",
   "metadata": {},
   "outputs": [],
   "source": [
    "#df.to_csv('seventh1')"
   ]
  },
  {
   "cell_type": "code",
   "execution_count": null,
   "id": "58397217",
   "metadata": {},
   "outputs": [],
   "source": []
  }
 ],
 "metadata": {
  "kernelspec": {
   "display_name": "Python 3 (ipykernel)",
   "language": "python",
   "name": "python3"
  },
  "language_info": {
   "codemirror_mode": {
    "name": "ipython",
    "version": 3
   },
   "file_extension": ".py",
   "mimetype": "text/x-python",
   "name": "python",
   "nbconvert_exporter": "python",
   "pygments_lexer": "ipython3",
   "version": "3.9.12"
  }
 },
 "nbformat": 4,
 "nbformat_minor": 5
}
