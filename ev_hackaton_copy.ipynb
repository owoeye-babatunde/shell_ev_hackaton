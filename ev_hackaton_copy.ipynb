{
 "cells": [
  {
   "cell_type": "code",
   "execution_count": 1,
   "id": "03e3b8f4",
   "metadata": {},
   "outputs": [],
   "source": [
    "import pandas as pd\n",
    "#import torch\n",
    "import numpy as np\n",
    "from matplotlib import pyplot as plt\n",
    "%matplotlib inline\n",
    "#import seaborn as sns"
   ]
  },
  {
   "cell_type": "code",
   "execution_count": 2,
   "id": "681be318",
   "metadata": {},
   "outputs": [
    {
     "data": {
      "text/html": [
       "<div>\n",
       "<style scoped>\n",
       "    .dataframe tbody tr th:only-of-type {\n",
       "        vertical-align: middle;\n",
       "    }\n",
       "\n",
       "    .dataframe tbody tr th {\n",
       "        vertical-align: top;\n",
       "    }\n",
       "\n",
       "    .dataframe thead th {\n",
       "        text-align: right;\n",
       "    }\n",
       "</style>\n",
       "<table border=\"1\" class=\"dataframe\">\n",
       "  <thead>\n",
       "    <tr style=\"text-align: right;\">\n",
       "      <th></th>\n",
       "      <th>demand_point_index</th>\n",
       "      <th>x_coordinate</th>\n",
       "      <th>y_coordinate</th>\n",
       "      <th>2010</th>\n",
       "      <th>2011</th>\n",
       "      <th>2012</th>\n",
       "      <th>2013</th>\n",
       "      <th>2014</th>\n",
       "      <th>2015</th>\n",
       "      <th>2016</th>\n",
       "      <th>2017</th>\n",
       "      <th>2018</th>\n",
       "    </tr>\n",
       "  </thead>\n",
       "  <tbody>\n",
       "    <tr>\n",
       "      <th>0</th>\n",
       "      <td>0</td>\n",
       "      <td>0.5</td>\n",
       "      <td>0.5</td>\n",
       "      <td>0.352242</td>\n",
       "      <td>0.667932</td>\n",
       "      <td>0.958593</td>\n",
       "      <td>2.911901</td>\n",
       "      <td>4.338274</td>\n",
       "      <td>6.561995</td>\n",
       "      <td>8.454417</td>\n",
       "      <td>10.595324</td>\n",
       "      <td>13.119572</td>\n",
       "    </tr>\n",
       "    <tr>\n",
       "      <th>1</th>\n",
       "      <td>1</td>\n",
       "      <td>1.5</td>\n",
       "      <td>0.5</td>\n",
       "      <td>0.325940</td>\n",
       "      <td>0.591964</td>\n",
       "      <td>0.862652</td>\n",
       "      <td>2.589068</td>\n",
       "      <td>4.196034</td>\n",
       "      <td>5.745551</td>\n",
       "      <td>8.753195</td>\n",
       "      <td>11.126995</td>\n",
       "      <td>12.020091</td>\n",
       "    </tr>\n",
       "    <tr>\n",
       "      <th>2</th>\n",
       "      <td>2</td>\n",
       "      <td>2.5</td>\n",
       "      <td>0.5</td>\n",
       "      <td>0.373752</td>\n",
       "      <td>0.591890</td>\n",
       "      <td>0.969733</td>\n",
       "      <td>2.641432</td>\n",
       "      <td>3.541772</td>\n",
       "      <td>5.469161</td>\n",
       "      <td>8.414627</td>\n",
       "      <td>10.115336</td>\n",
       "      <td>14.018254</td>\n",
       "    </tr>\n",
       "    <tr>\n",
       "      <th>3</th>\n",
       "      <td>3</td>\n",
       "      <td>3.5</td>\n",
       "      <td>0.5</td>\n",
       "      <td>0.420686</td>\n",
       "      <td>0.584055</td>\n",
       "      <td>0.906547</td>\n",
       "      <td>2.378577</td>\n",
       "      <td>3.888121</td>\n",
       "      <td>5.846089</td>\n",
       "      <td>9.083868</td>\n",
       "      <td>12.424885</td>\n",
       "      <td>15.012302</td>\n",
       "    </tr>\n",
       "    <tr>\n",
       "      <th>4</th>\n",
       "      <td>4</td>\n",
       "      <td>4.5</td>\n",
       "      <td>0.5</td>\n",
       "      <td>0.475621</td>\n",
       "      <td>0.647940</td>\n",
       "      <td>0.981544</td>\n",
       "      <td>2.665400</td>\n",
       "      <td>4.218711</td>\n",
       "      <td>6.776609</td>\n",
       "      <td>8.851107</td>\n",
       "      <td>11.731131</td>\n",
       "      <td>16.355563</td>\n",
       "    </tr>\n",
       "  </tbody>\n",
       "</table>\n",
       "</div>"
      ],
      "text/plain": [
       "   demand_point_index  x_coordinate  y_coordinate      2010      2011  \\\n",
       "0                   0           0.5           0.5  0.352242  0.667932   \n",
       "1                   1           1.5           0.5  0.325940  0.591964   \n",
       "2                   2           2.5           0.5  0.373752  0.591890   \n",
       "3                   3           3.5           0.5  0.420686  0.584055   \n",
       "4                   4           4.5           0.5  0.475621  0.647940   \n",
       "\n",
       "       2012      2013      2014      2015      2016       2017       2018  \n",
       "0  0.958593  2.911901  4.338274  6.561995  8.454417  10.595324  13.119572  \n",
       "1  0.862652  2.589068  4.196034  5.745551  8.753195  11.126995  12.020091  \n",
       "2  0.969733  2.641432  3.541772  5.469161  8.414627  10.115336  14.018254  \n",
       "3  0.906547  2.378577  3.888121  5.846089  9.083868  12.424885  15.012302  \n",
       "4  0.981544  2.665400  4.218711  6.776609  8.851107  11.731131  16.355563  "
      ]
     },
     "execution_count": 2,
     "metadata": {},
     "output_type": "execute_result"
    }
   ],
   "source": [
    "dfdemand = pd.read_csv('Demand_History.csv')\n",
    "dfinfra = pd.read_csv('exisiting_EV_infrastructure_2018.csv')\n",
    "sample_sub = pd.read_csv('sample_submission.csv')\n",
    "dfdemand.head()"
   ]
  },
  {
   "cell_type": "code",
   "execution_count": 3,
   "id": "64774058",
   "metadata": {},
   "outputs": [
    {
     "data": {
      "text/plain": [
       "361529.6365968907"
      ]
     },
     "execution_count": 3,
     "metadata": {},
     "output_type": "execute_result"
    }
   ],
   "source": [
    "dfdemand['2018'].sum()"
   ]
  },
  {
   "cell_type": "code",
   "execution_count": 4,
   "id": "b22544f7",
   "metadata": {},
   "outputs": [],
   "source": [
    "def calculate_Distij(demand_point_x=dfdemand['x_coordinate'], \n",
    "                    demand_point_y=dfdemand['y_coordinate'],\n",
    "                    supply_point_x = dfinfra['x_coordinate'],\n",
    "                    supply_point_y=dfinfra['y_coordinate']): \n",
    "    \n",
    "    # for x coord\n",
    "    newdf = pd.DataFrame()\n",
    "    lis = []\n",
    "    for i in demand_point_x:\n",
    "        for j in supply_point_x:\n",
    "            lis.append(i-j)\n",
    "    lisarr = np.asarray(lis)\n",
    "    #print(lisarr)\n",
    "    # for y coord\n",
    "    lis1 = []\n",
    "    for i in demand_point_y:\n",
    "        for j in supply_point_y:\n",
    "            lis1.append(i-j)\n",
    "    lisarr1 = np.asarray(lis1)\n",
    "    lis2 = []\n",
    "    #Calculating linear distances between two points\n",
    "    for x, y in zip(lisarr, lisarr1):\n",
    "        lis2.append(np.sqrt(x**2 + y**2))\n",
    "    Distij = np.asarray(lis2)\n",
    "    #dist1 is the copy of the reshaped dist value\n",
    "    Distij = Distij.reshape(4096, 100)\n",
    "    #print(dist1.shape)\n",
    "    return Distij"
   ]
  },
  {
   "cell_type": "code",
   "execution_count": 5,
   "id": "11955952",
   "metadata": {},
   "outputs": [],
   "source": [
    "x = calculate_Distij()"
   ]
  },
  {
   "cell_type": "code",
   "execution_count": 6,
   "id": "a3398656",
   "metadata": {},
   "outputs": [],
   "source": [
    "def truncate_min_k(x, k, inplace=False):\n",
    "    m, n = x.shape\n",
    "    # get (unsorted) indices of top-k values\n",
    "    mink_indices = np.argpartition(x, k, axis=1)[:, :k]\n",
    "    # get k-th value\n",
    "    rows, _ = np.indices((m, k))\n",
    "    kth_vals = x[rows, mink_indices].max(axis=1)\n",
    "    # get boolean mask of values smaller than k-th\n",
    "    is_greater_than_kth = x > kth_vals[:, None]\n",
    "    # replace mask by 0\n",
    "    if not inplace:\n",
    "        return np.where(is_greater_than_kth, 0, x)\n",
    "    x[is_greater_than_kth] = 0\n",
    "    return x"
   ]
  },
  {
   "cell_type": "code",
   "execution_count": 7,
   "id": "a49d88be",
   "metadata": {},
   "outputs": [
    {
     "data": {
      "text/plain": [
       "(4096, 100)"
      ]
     },
     "execution_count": 7,
     "metadata": {},
     "output_type": "execute_result"
    }
   ],
   "source": [
    "k=30\n",
    "min_k = truncate_min_k(x, k=k)\n",
    "min_k.shape"
   ]
  },
  {
   "cell_type": "code",
   "execution_count": 8,
   "id": "5f0da4e5",
   "metadata": {},
   "outputs": [
    {
     "data": {
      "text/plain": [
       "array([1229, 1228, 1233, 1229, 1228, 1232, 1227, 1233, 1229, 1226, 1231,\n",
       "       1232, 1228, 1236, 1226, 1229, 1234, 1227, 1227, 1236, 1226, 1227,\n",
       "       1233, 1228, 1231, 1229, 1229, 1232, 1229, 1229, 1231, 1227, 1234,\n",
       "       1228, 1228, 1230, 1233, 1229, 1234, 1227, 1226, 1234, 1226, 1229,\n",
       "       1235, 1228, 1226, 1234, 1227, 1231, 1228, 1233, 1229, 1230, 1227,\n",
       "       1232, 1227, 1233, 1229, 1228, 1230, 1233, 1224, 1237, 1224, 1228,\n",
       "       1236, 1226, 1230, 1233, 1229, 1227, 1233, 1229, 1230, 1230, 1230,\n",
       "       1231, 1230, 1226, 1235, 1224, 1233, 1230, 1228, 1230, 1231, 1228,\n",
       "       1235, 1226, 1228, 1236, 1228, 1226, 1232, 1229, 1229, 1232, 1230,\n",
       "       1228])"
      ]
     },
     "execution_count": 8,
     "metadata": {},
     "output_type": "execute_result"
    }
   ],
   "source": [
    "def supply_count(min_k):\n",
    "   \n",
    "    kth = min_k.reshape(100, -1)\n",
    "    lis = []\n",
    "    for i in range(len(kth)):\n",
    "        lis.append(len(np.unique(kth[i])))\n",
    "    return np.asarray(lis)\n",
    "supply_count(min_k)"
   ]
  },
  {
   "cell_type": "code",
   "execution_count": 9,
   "id": "0d903334",
   "metadata": {},
   "outputs": [],
   "source": [
    "def summation_Dist():\n",
    "    real_sum = []\n",
    "    for i in range(4096):\n",
    "        real_sum.append(min_k[i].sum())\n",
    "        \n",
    "    sum_dist = np.asarray(real_sum)[:, None]\n",
    "    return sum_dist"
   ]
  },
  {
   "cell_type": "code",
   "execution_count": 10,
   "id": "f943307c",
   "metadata": {},
   "outputs": [],
   "source": [
    "sum_dist = summation_Dist()"
   ]
  },
  {
   "cell_type": "code",
   "execution_count": 11,
   "id": "b1ae0f87",
   "metadata": {},
   "outputs": [],
   "source": [
    "def supply_demand(Dforecast=dfdemand['2018'].values[:, None]):  \n",
    "    \"\"\"\n",
    "    Constraint5: \n",
    "    inputs:\n",
    "    trunmin: This is the truncated minimum distances of each demand points from\n",
    "    every supply points\n",
    "    di: This is the forecasted demands for a particular year\n",
    "    sum_dist: This is the sum of the truncated distances of each demand point from every \n",
    "    supply points reshaped into 4096 X 1 to match the broadcastable shape of 'trunmin'\n",
    "    \n",
    "    Return:\n",
    "        demand satisfied by each supply point by the demand point\n",
    "    \"\"\"\n",
    "    sum_dist = summation_Dist()\n",
    "    min_k = truncate_min_k(x, k).reshape(4096, -1)    \n",
    "    lis = []\n",
    "    for j in range(4096):\n",
    "        for distance in min_k[j]: #changed to minfive\n",
    "            #for x, y, z in zip(min_sup, sum_dist[0], di[0]):\n",
    "              #  lis.append((x*z)/y)\n",
    "            lis.append((distance*Dforecast[j])/sum_dist[j])\n",
    " \n",
    "    \n",
    "    return np.asarray(lis)"
   ]
  },
  {
   "cell_type": "code",
   "execution_count": 12,
   "id": "050d47d7",
   "metadata": {
    "scrolled": true
   },
   "outputs": [
    {
     "data": {
      "text/plain": [
       "(409600, 1)"
      ]
     },
     "execution_count": 12,
     "metadata": {},
     "output_type": "execute_result"
    }
   ],
   "source": [
    "DSij = supply_demand()\n",
    "DSij.shape"
   ]
  },
  {
   "cell_type": "code",
   "execution_count": 13,
   "id": "e2e31225",
   "metadata": {},
   "outputs": [],
   "source": [
    "dfinfra['scs_cap'] = dfinfra['existing_num_SCS']*200\n",
    "dfinfra['fcs_cap'] = dfinfra['existing_num_FCS']*400\n",
    "dfinfra['total_cap'] = dfinfra['scs_cap']+ dfinfra['fcs_cap']\n",
    "dfinfra['parking_cap'] = (dfinfra['total_parking_slots'] - dfinfra['existing_num_SCS']) * 400 + (dfinfra['existing_num_SCS']) * 200\n",
    "dfinfra['available_cap'] = dfinfra['parking_cap'] - dfinfra['total_cap']"
   ]
  },
  {
   "cell_type": "code",
   "execution_count": 14,
   "id": "05995993",
   "metadata": {},
   "outputs": [
    {
     "data": {
      "text/html": [
       "<div>\n",
       "<style scoped>\n",
       "    .dataframe tbody tr th:only-of-type {\n",
       "        vertical-align: middle;\n",
       "    }\n",
       "\n",
       "    .dataframe tbody tr th {\n",
       "        vertical-align: top;\n",
       "    }\n",
       "\n",
       "    .dataframe thead th {\n",
       "        text-align: right;\n",
       "    }\n",
       "</style>\n",
       "<table border=\"1\" class=\"dataframe\">\n",
       "  <thead>\n",
       "    <tr style=\"text-align: right;\">\n",
       "      <th></th>\n",
       "      <th>supply_point_index</th>\n",
       "      <th>x_coordinate</th>\n",
       "      <th>y_coordinate</th>\n",
       "      <th>total_parking_slots</th>\n",
       "      <th>existing_num_SCS</th>\n",
       "      <th>existing_num_FCS</th>\n",
       "      <th>scs_cap</th>\n",
       "      <th>fcs_cap</th>\n",
       "      <th>total_cap</th>\n",
       "      <th>parking_cap</th>\n",
       "      <th>available_cap</th>\n",
       "    </tr>\n",
       "  </thead>\n",
       "  <tbody>\n",
       "    <tr>\n",
       "      <th>0</th>\n",
       "      <td>0</td>\n",
       "      <td>50.163110</td>\n",
       "      <td>19.412014</td>\n",
       "      <td>23</td>\n",
       "      <td>5</td>\n",
       "      <td>3</td>\n",
       "      <td>1000</td>\n",
       "      <td>1200</td>\n",
       "      <td>2200</td>\n",
       "      <td>8200</td>\n",
       "      <td>6000</td>\n",
       "    </tr>\n",
       "    <tr>\n",
       "      <th>1</th>\n",
       "      <td>1</td>\n",
       "      <td>37.336451</td>\n",
       "      <td>58.119225</td>\n",
       "      <td>27</td>\n",
       "      <td>4</td>\n",
       "      <td>7</td>\n",
       "      <td>800</td>\n",
       "      <td>2800</td>\n",
       "      <td>3600</td>\n",
       "      <td>10000</td>\n",
       "      <td>6400</td>\n",
       "    </tr>\n",
       "    <tr>\n",
       "      <th>2</th>\n",
       "      <td>2</td>\n",
       "      <td>46.709232</td>\n",
       "      <td>57.525650</td>\n",
       "      <td>31</td>\n",
       "      <td>6</td>\n",
       "      <td>14</td>\n",
       "      <td>1200</td>\n",
       "      <td>5600</td>\n",
       "      <td>6800</td>\n",
       "      <td>11200</td>\n",
       "      <td>4400</td>\n",
       "    </tr>\n",
       "    <tr>\n",
       "      <th>3</th>\n",
       "      <td>3</td>\n",
       "      <td>30.528626</td>\n",
       "      <td>55.379835</td>\n",
       "      <td>26</td>\n",
       "      <td>5</td>\n",
       "      <td>5</td>\n",
       "      <td>1000</td>\n",
       "      <td>2000</td>\n",
       "      <td>3000</td>\n",
       "      <td>9400</td>\n",
       "      <td>6400</td>\n",
       "    </tr>\n",
       "    <tr>\n",
       "      <th>4</th>\n",
       "      <td>4</td>\n",
       "      <td>51.521781</td>\n",
       "      <td>35.116755</td>\n",
       "      <td>32</td>\n",
       "      <td>11</td>\n",
       "      <td>6</td>\n",
       "      <td>2200</td>\n",
       "      <td>2400</td>\n",
       "      <td>4600</td>\n",
       "      <td>10600</td>\n",
       "      <td>6000</td>\n",
       "    </tr>\n",
       "  </tbody>\n",
       "</table>\n",
       "</div>"
      ],
      "text/plain": [
       "   supply_point_index  x_coordinate  y_coordinate  total_parking_slots  \\\n",
       "0                   0     50.163110     19.412014                   23   \n",
       "1                   1     37.336451     58.119225                   27   \n",
       "2                   2     46.709232     57.525650                   31   \n",
       "3                   3     30.528626     55.379835                   26   \n",
       "4                   4     51.521781     35.116755                   32   \n",
       "\n",
       "   existing_num_SCS  existing_num_FCS  scs_cap  fcs_cap  total_cap  \\\n",
       "0                 5                 3     1000     1200       2200   \n",
       "1                 4                 7      800     2800       3600   \n",
       "2                 6                14     1200     5600       6800   \n",
       "3                 5                 5     1000     2000       3000   \n",
       "4                11                 6     2200     2400       4600   \n",
       "\n",
       "   parking_cap  available_cap  \n",
       "0         8200           6000  \n",
       "1        10000           6400  \n",
       "2        11200           4400  \n",
       "3         9400           6400  \n",
       "4        10600           6000  "
      ]
     },
     "execution_count": 14,
     "metadata": {},
     "output_type": "execute_result"
    }
   ],
   "source": [
    "dfinfra.head()"
   ]
  },
  {
   "cell_type": "code",
   "execution_count": null,
   "id": "b0a9f844",
   "metadata": {},
   "outputs": [],
   "source": []
  },
  {
   "cell_type": "code",
   "execution_count": 15,
   "id": "6ecf3086",
   "metadata": {},
   "outputs": [
    {
     "data": {
      "text/plain": [
       "(4096,)"
      ]
     },
     "execution_count": 15,
     "metadata": {},
     "output_type": "execute_result"
    }
   ],
   "source": [
    "dfdemand['2018'].shape"
   ]
  },
  {
   "cell_type": "code",
   "execution_count": 16,
   "id": "62328f69",
   "metadata": {},
   "outputs": [],
   "source": [
    "def add_infrastructure(Dforecast=dfdemand['2018'].values[:, None]):\n",
    "    \"\"\"\n",
    "    purpose: This function calculates the number of additional infrastructure \n",
    "    needed at every(100) supply points over all the demand points.\n",
    "    Particularly optimizing for more FCS if more infrastructure is\n",
    "    needed\n",
    "    inputs:\n",
    "    sup_cap:\n",
    "    This is the overall calculated supply capacity returned by our model(calculation parameters)\n",
    "    scs_cap{constant}:\n",
    "    This is the supply or charging capacity of slow charging station at every supply point\n",
    "    const_total{constant}:\n",
    "    This is the constant total charging capacity at every supply point\n",
    "    \"\"\"\n",
    "    newval =  supply_demand(Dforecast)\n",
    "    newval = newval.reshape(100, -1)\n",
    "    DS = np.sum(newval, 1)\n",
    "    smax= dfinfra['total_cap'].values\n",
    "    lis = []# for fast charging stations\n",
    "    for DSij, Smax in zip(DS, smax):\n",
    "    \n",
    "        result = Smax - DSij\n",
    "        if result >= 0:\n",
    "            lis.append(0)\n",
    "        else:\n",
    "            result = abs(result)\n",
    "            lis.append((result//400) + 1) #+1 removed\n",
    "\n",
    "        \n",
    "    \n",
    "    more_infra = np.asarray(lis) # capacity to add\n",
    "    return more_infra"
   ]
  },
  {
   "cell_type": "code",
   "execution_count": 17,
   "id": "7ba9e3fe",
   "metadata": {},
   "outputs": [
    {
     "data": {
      "text/plain": [
       "array([ 0.,  0.,  0.,  0.,  0.,  0.,  0.,  0.,  2.,  0.,  6.,  0.,  0.,\n",
       "        0.,  0.,  0.,  2.,  3.,  0.,  0.,  0.,  0.,  1.,  0.,  0.,  0.,\n",
       "        0.,  1.,  0.,  1.,  5.,  0.,  0.,  1.,  2.,  5.,  1.,  1.,  7.,\n",
       "        2.,  1., 11.,  0.,  1., 11.,  1.,  6., 11.,  0.,  1.,  1.,  9.,\n",
       "        9.,  0.,  0., 15.,  2., 11., 10.,  4., 11., 12.,  0.,  9., 10.,\n",
       "        0., 17.,  0.,  2.,  8.,  2.,  4., 10.,  5., 17.,  0.,  9.,  6.,\n",
       "        0.,  3.,  7.,  0.,  2.,  4.,  1.,  0.,  0.,  0.,  6.,  0.,  0.,\n",
       "        0.,  0.,  0.,  0.,  0.,  0.,  0.,  0.,  0.])"
      ]
     },
     "execution_count": 17,
     "metadata": {},
     "output_type": "execute_result"
    }
   ],
   "source": [
    "to_add = add_infrastructure()\n",
    "to_add"
   ]
  },
  {
   "cell_type": "raw",
   "id": "68385b74",
   "metadata": {},
   "source": [
    "def excess_charging_cap(Dforecast=dfdemand['2018'].values[:, None], k=k):\n",
    "    #dfinfra['new_FCS'] = dfinfra['existing_num_FCS'].values + to_add\n",
    "    to_add = add_infrastructure(Dforecast)\n",
    "    dfinfra['add_cap'] = to_add * 400\n",
    "    dfinfra['excess_cap'] = dfinfra['available_cap'] - dfinfra['add_cap']\n",
    "    #print(dfinfra['excess_cap'])\n",
    "    excess=[]\n",
    "    for i in dfinfra['excess_cap']:\n",
    "        if i >= 0:\n",
    "            excess.append(0)\n",
    "        elif i < 0:\n",
    "            excess.append(i)\n",
    "    excess = np.asarray(excess)\n",
    "    #print(len(excess))\n",
    "    return excess"
   ]
  },
  {
   "cell_type": "code",
   "execution_count": 18,
   "id": "3eced59e",
   "metadata": {},
   "outputs": [],
   "source": [
    "def excess_charging_cap(Dforecast=dfdemand['2018'].values[:, None], k=k):\n",
    "    #dfinfra['new_FCS'] = dfinfra['existing_num_FCS'].values + to_add\n",
    "    to_add = add_infrastructure(Dforecast)\n",
    "    dfinfra['add_cap'] = to_add * 400\n",
    "    dfinfra['excess_cap'] = dfinfra['available_cap'] - dfinfra['add_cap']\n",
    "    #print(dfinfra['excess_cap'])\n",
    "    excess=[]\n",
    "    for i in dfinfra['excess_cap']:\n",
    "        if i >= 0:\n",
    "            excess.append(i)\n",
    "        elif i < 0:\n",
    "            excess.append(i)\n",
    "    excess = np.asarray(excess)\n",
    "    excess = np.reshape(excess, 100)\n",
    "    #print(len(excess))\n",
    "    return excess"
   ]
  },
  {
   "cell_type": "code",
   "execution_count": 19,
   "id": "5501aac0",
   "metadata": {},
   "outputs": [
    {
     "data": {
      "text/plain": [
       "array([ 6000.,  6400.,  4400.,  6400.,  6000.,  5200.,  3200.,  8000.,\n",
       "        7200.,  4000.,   800.,  3200.,  4800.,  6400.,  5600.,  5200.,\n",
       "        2000.,     0.,  6800.,  5600.,  3600.,  4000.,  4000.,  5200.,\n",
       "        4000.,  4800.,  5200.,  6400.,  6000.,  7200.,  2800.,  7200.,\n",
       "        6800.,  6000.,  4400.,   400.,  6400.,  1600.,  1600.,  6000.,\n",
       "        4000.,  1200.,  6000.,  6400.,     0.,  6800.,  4400.,  1600.,\n",
       "        4400.,  3600.,  5600.,  -800.,  3200.,  6400.,  7600., -1200.,\n",
       "        4800.,     0.,  -400.,  3600., -2400., -1600.,  6400.,  -800.,\n",
       "        2000.,  7200., -2800.,  4800.,  4000.,  4400.,  6800.,  4800.,\n",
       "        1200.,  5200., -4000.,  6000., -2000.,  2000.,  6800.,  5600.,\n",
       "         400.,  8400.,  2800.,  3600.,     0.,  4000.,  5600.,  5600.,\n",
       "        2400.,  7200.,  4000.,  8400.,  4000.,  5200.,  5600.,  6800.,\n",
       "        6800.,  5600.,  6400.,  4400.])"
      ]
     },
     "execution_count": 19,
     "metadata": {},
     "output_type": "execute_result"
    }
   ],
   "source": [
    "excess_charging_cap()"
   ]
  },
  {
   "cell_type": "code",
   "execution_count": 20,
   "id": "c9b074ce",
   "metadata": {},
   "outputs": [
    {
     "data": {
      "text/plain": [
       "array([ 6000.,  6400.,  4400.,  6400.,  6000.,  5200.,  3200.,  8000.,\n",
       "        7200.,  4000.,   800.,  3200.,  4800.,  6400.,  5600.,  5200.,\n",
       "        2000.,     0.,  6800.,  5600.,  3600.,  4000.,  4000.,  5200.,\n",
       "        4000.,  4800.,  5200.,  6400.,  6000.,  7200.,  2800.,  7200.,\n",
       "        6800.,  6000.,  4400.,   400.,  6400.,  1600.,  1600.,  6000.,\n",
       "        4000.,  1200.,  6000.,  6400.,     0.,  6800.,  4400.,  1600.,\n",
       "        4400.,  3600.,  5600.,  -800.,  3200.,  6400.,  7600., -1200.,\n",
       "        4800.,     0.,  -400.,  3600., -2400., -1600.,  6400.,  -800.,\n",
       "        2000.,  7200., -2800.,  4800.,  4000.,  4400.,  6800.,  4800.,\n",
       "        1200.,  5200., -4000.,  6000., -2000.,  2000.,  6800.,  5600.,\n",
       "         400.,  8400.,  2800.,  3600.,     0.,  4000.,  5600.,  5600.,\n",
       "        2400.,  7200.,  4000.,  8400.,  4000.,  5200.,  5600.,  6800.,\n",
       "        6800.,  5600.,  6400.,  4400.])"
      ]
     },
     "execution_count": 20,
     "metadata": {},
     "output_type": "execute_result"
    }
   ],
   "source": [
    "dfinfra['new_FCS'] = dfinfra['existing_num_FCS'].values + to_add\n",
    "dfinfra['new_FCS_cap'] = dfinfra['new_FCS'] * 400\n",
    "dfinfra['excess_charge_cap'] = dfinfra['parking_cap'] - (dfinfra['scs_cap'] + dfinfra['new_FCS_cap'])\n",
    "dfinfra['excess_charge_cap'].values"
   ]
  },
  {
   "cell_type": "raw",
   "id": "4670263c",
   "metadata": {},
   "source": [
    "def adjusted_forecast(Dforecast=dfdemand['2018'].values[:, None]):\n",
    "    parking_cap = dfinfra['parking_cap'].values\n",
    "    parking_cap.shape\n",
    "    excess_cap = dfinfra['excess_charge_cap'].values\n",
    "    excess = excess_charging_cap(Dforecast, k=k)\n",
    "    newval =  supply_demand(Dforecast).reshape(100, -1)\n",
    "    #print(newval)\n",
    "    max_sup_cap = []\n",
    "    \n",
    "    for i in range(len(excess)):\n",
    "        div_factor = excess[i]/(4096)\n",
    "        #print(div_factor)\n",
    "        max_sup_cap.append(newval[i] + div_factor)\n",
    "    max_sup_cap = np.asarray(max_sup_cap)#.reshape(4096, -1)\n",
    "    \n",
    "    forecasted = []\n",
    "    for i in range(4096):\n",
    "        for cap in max_sup_cap:\n",
    "            forecasted.append(cap[i])\n",
    "    forecasted = np.asarray(forecasted)\n",
    "    #return forecasted"
   ]
  },
  {
   "cell_type": "raw",
   "id": "cb239e53",
   "metadata": {},
   "source": [
    "def adjusted_forecast(Dforecast=dfdemand['2018'].values[:, None], k=k):\n",
    "    parking_cap = dfinfra['parking_cap'].values\n",
    "    parking_cap.shape\n",
    "    excess_cap = dfinfra['excess_charge_cap'].values\n",
    "    excess = excess_charging_cap(Dforecast, k=k)\n",
    "    newval =  supply_demand(Dforecast).reshape(100, -1)\n",
    "    #print(excess)\n",
    "    max_sup_cap = []\n",
    "    \n",
    "    for i in range(len(excess)):\n",
    "        div_factor = excess[i]/(4096)\n",
    "        #print(div_factor)\n",
    "        max_sup_cap.append(newval[i] + div_factor)\n",
    "    max_sup_cap = np.asarray(max_sup_cap)#.reshape(4096, -1)\n",
    "    \n",
    "    forecasted = []\n",
    "    for i in range(4096):\n",
    "        for cap in max_sup_cap:\n",
    "            forecasted.append(cap[i])\n",
    "    forecasted = np.asarray(forecasted)\n",
    "    #return forecasted\n",
    "\n",
    "\n",
    "#supply_count(min_k)\n",
    "#adjusted_forecast().sum()"
   ]
  },
  {
   "cell_type": "raw",
   "id": "f3926ba5",
   "metadata": {},
   "source": [
    "def adjusted_forecast(Dforecast=dfdemand['2018'].values[:, None], k=k):\n",
    "    parking_cap = dfinfra['parking_cap'].values\n",
    "    parking_cap.shape\n",
    "    excess_cap = dfinfra['excess_charge_cap'].values\n",
    "    excess = excess_charging_cap(Dforecast, k=k)\n",
    "    newval =  supply_demand(Dforecast).reshape(100, -1)\n",
    "    #print(newval.sum())\n",
    "    count = supply_count(min_k)\n",
    "    max_sup_cap = []\n",
    "    \n",
    "    for i in range(len(excess)):\n",
    "        div_factor = excess[i]/(count[i]-3) # 3 is subtracted to decrease the effect of rounding operation\n",
    "        #print(div_factor)\n",
    "        max_sup_cap.append(newval[i] + div_factor)\n",
    "    max_sup_cap = np.asarray(max_sup_cap)#.reshape(4096, -1)\n",
    "    \n",
    "    forecasted = []\n",
    "    for i in range(4096):\n",
    "        for cap in max_sup_cap:\n",
    "            forecasted.append(cap[i])\n",
    "    forecasted = np.asarray(forecasted)\n",
    "    #return forecasted\n",
    "\n",
    "\n",
    "#supply_count(min_k)\n",
    "adjusted_forecast().shape"
   ]
  },
  {
   "cell_type": "raw",
   "id": "32151f9d",
   "metadata": {},
   "source": [
    "def adjusted_forecast(Dforecast=dfdemand['2018'].values[:, None], k=k):\n",
    "    parking_cap = dfinfra['parking_cap'].values\n",
    "    parking_cap.shape\n",
    "    excess_cap = dfinfra['excess_charge_cap'].values\n",
    "    excess = excess_charging_cap(Dforecast, k=k)\n",
    "    newval =  supply_demand(Dforecast).reshape(100, -1)\n",
    "    #print(new[36].sum())\n",
    "    #print(excess)\n",
    "    count = supply_count(min_k)\n",
    "    #    max_sup_cap = []\n",
    "    \n",
    "    for i in range(len(excess)-1):\n",
    "        div_factor = excess[i]/(count[i]-3) # 3 is subtracted to decrease the effect of rounding operation\n",
    "        #print(div_factor)\n",
    "        for j in range(4096):\n",
    "            newval[i][j] = newval[i][j] + div_factor\n",
    "            newval[i+1][j] = newval[i+1][j] - div_factor\n",
    "            \n",
    "            \n",
    "            #for val in newval[i]:\n",
    "            #    val = val + div_factor\n",
    "            #for val2 in newval[i+1]:\n",
    "            #    val2 = val2 - div_factor\n",
    "#    max_sup_cap = np.asarray(max_sup_cap)#.reshape(4096, -1)\n",
    "    \n",
    "#    forecasted = []\n",
    "#    for i in range(4096):\n",
    "#        for cap in max_sup_cap:\n",
    "#            forecasted.append(cap[i])\n",
    "#    forecasted = np.asarray(forecasted)\n",
    "    return np.reshape(newval, 409600)\n",
    "adjusted_forecast().shape"
   ]
  },
  {
   "cell_type": "code",
   "execution_count": null,
   "id": "cec6c0d5",
   "metadata": {},
   "outputs": [],
   "source": []
  },
  {
   "cell_type": "raw",
   "id": "037c0603",
   "metadata": {},
   "source": [
    "def adjusted_forecast(Dforecast=dfdemand['2018'].values[:, None], k=k):\n",
    "    parking_cap = dfinfra['parking_cap'].values\n",
    "    parking_cap.shape\n",
    "    excess_cap = dfinfra['excess_charge_cap'].values\n",
    "    excess = excess_charging_cap(Dforecast, k=k)\n",
    "    newval =  supply_demand(Dforecast).reshape(100, -1)\n",
    "    \n",
    "    for i, j in zip(range(99), excess):\n",
    "        newval[i] = newval[i] + j                                # sign is reversed since excess are negative values\n",
    "        newval[i+1] = newval[i+1] - j\n",
    "    newval[len(excess)-1] = newval[len(excess)-1] + excess[len(excess)-1]\n",
    "    \n",
    "    \n",
    "    \n",
    "    \n",
    "    \n",
    "    return np.reshape(newval, 409600)\n",
    "adjusted_forecast().sum()"
   ]
  },
  {
   "cell_type": "code",
   "execution_count": 57,
   "id": "37ed8a3e",
   "metadata": {},
   "outputs": [
    {
     "data": {
      "text/plain": [
       "-663190470.3634031"
      ]
     },
     "execution_count": 57,
     "metadata": {},
     "output_type": "execute_result"
    }
   ],
   "source": [
    "#There is a big issue with this function\n",
    "def adjusted_forecast(Dforecast=dfdemand['2018'].values[:, None], k=k):\n",
    "    parking_cap = dfinfra['parking_cap'].values\n",
    "    parking_cap.shape\n",
    "    excess_cap = dfinfra['excess_charge_cap'].values\n",
    "    excess = excess_charging_cap(Dforecast, k=k)\n",
    "    newval =  supply_demand(Dforecast).reshape(100, -1)\n",
    "    k=0\n",
    "    for i, j in zip(range(99), excess):\n",
    "        if k < len(excess)-2:\n",
    "            k+=1\n",
    "        if j < 0:\n",
    "            newval[i] = newval[i] + j\n",
    "        else:\n",
    "            if abs(j) < abs(excess[k+1]):         # sign is reversed since excess are negative values\n",
    "\n",
    "                newval[i+1] = newval[i+1] - j\n",
    "\n",
    "    newval[len(excess)-1] = newval[len(excess)-1] + excess[len(excess)-1]\n",
    "    \n",
    "    \n",
    "    \n",
    "    \n",
    "    \n",
    "    return np.reshape(newval, 409600)\n",
    "adjusted_forecast().sum()"
   ]
  },
  {
   "cell_type": "code",
   "execution_count": 22,
   "id": "a716e507",
   "metadata": {},
   "outputs": [
    {
     "name": "stdout",
     "output_type": "stream",
     "text": [
      "(4096, 1)\n"
     ]
    },
    {
     "data": {
      "text/plain": [
       "361529.6365968907"
      ]
     },
     "execution_count": 22,
     "metadata": {},
     "output_type": "execute_result"
    }
   ],
   "source": [
    "Dforecast=dfdemand['2018'].values[:, None]\n",
    "print(Dforecast.shape)\n",
    "#Dforecast = np.reshape(Dforecast, 409600)\n",
    "Dforecast.sum()"
   ]
  },
  {
   "cell_type": "code",
   "execution_count": 23,
   "id": "c81a4ca4",
   "metadata": {},
   "outputs": [
    {
     "data": {
      "text/plain": [
       "(409600,)"
      ]
     },
     "execution_count": 23,
     "metadata": {},
     "output_type": "execute_result"
    }
   ],
   "source": [
    "refined_forecast = adjusted_forecast()\n",
    "refined_forecast.shape"
   ]
  },
  {
   "cell_type": "code",
   "execution_count": 24,
   "id": "0ecdc970",
   "metadata": {},
   "outputs": [
    {
     "data": {
      "text/plain": [
       "-663190470.3634031"
      ]
     },
     "execution_count": 24,
     "metadata": {},
     "output_type": "execute_result"
    }
   ],
   "source": [
    "forecasty = np.sum(refined_forecast.reshape(4096, -1), 1)\n",
    "forecasty.sum()"
   ]
  },
  {
   "cell_type": "code",
   "execution_count": 25,
   "id": "c658df1d",
   "metadata": {},
   "outputs": [
    {
     "name": "stdout",
     "output_type": "stream",
     "text": [
      "45045.0\n"
     ]
    },
    {
     "data": {
      "text/plain": [
       "array([0.0000e+00, 0.0000e+00, 0.0000e+00, 0.0000e+00, 0.0000e+00,\n",
       "       0.0000e+00, 0.0000e+00, 0.0000e+00, 0.0000e+00, 0.0000e+00,\n",
       "       0.0000e+00, 0.0000e+00, 0.0000e+00, 0.0000e+00, 0.0000e+00,\n",
       "       0.0000e+00, 0.0000e+00, 0.0000e+00, 0.0000e+00, 0.0000e+00,\n",
       "       0.0000e+00, 0.0000e+00, 0.0000e+00, 0.0000e+00, 0.0000e+00,\n",
       "       0.0000e+00, 0.0000e+00, 0.0000e+00, 0.0000e+00, 0.0000e+00,\n",
       "       0.0000e+00, 0.0000e+00, 0.0000e+00, 1.0000e+00, 0.0000e+00,\n",
       "       0.0000e+00, 0.0000e+00, 0.0000e+00, 0.0000e+00, 0.0000e+00,\n",
       "       0.0000e+00, 0.0000e+00, 0.0000e+00, 0.0000e+00, 0.0000e+00,\n",
       "       0.0000e+00, 6.0000e+00, 0.0000e+00, 0.0000e+00, 0.0000e+00,\n",
       "       0.0000e+00, 0.0000e+00, 0.0000e+00, 0.0000e+00, 0.0000e+00,\n",
       "       0.0000e+00, 0.0000e+00, 0.0000e+00, 0.0000e+00, 0.0000e+00,\n",
       "       0.0000e+00, 0.0000e+00, 0.0000e+00, 0.0000e+00, 0.0000e+00,\n",
       "       0.0000e+00, 0.0000e+00, 0.0000e+00, 0.0000e+00, 0.0000e+00,\n",
       "       0.0000e+00, 0.0000e+00, 0.0000e+00, 0.0000e+00, 0.0000e+00,\n",
       "       0.0000e+00, 0.0000e+00, 0.0000e+00, 0.0000e+00, 0.0000e+00,\n",
       "       0.0000e+00, 0.0000e+00, 0.0000e+00, 0.0000e+00, 0.0000e+00,\n",
       "       0.0000e+00, 0.0000e+00, 0.0000e+00, 0.0000e+00, 0.0000e+00,\n",
       "       0.0000e+00, 0.0000e+00, 0.0000e+00, 0.0000e+00, 0.0000e+00,\n",
       "       0.0000e+00, 0.0000e+00, 0.0000e+00, 8.9000e+01, 4.4949e+04])"
      ]
     },
     "execution_count": 25,
     "metadata": {},
     "output_type": "execute_result"
    }
   ],
   "source": [
    "infrastructure_to_add = add_infrastructure(Dforecast=forecasty[:, None])\n",
    "print(infrastructure_to_add.sum())\n",
    "infrastructure_to_add"
   ]
  },
  {
   "cell_type": "code",
   "execution_count": 26,
   "id": "e005ebc9",
   "metadata": {},
   "outputs": [
    {
     "data": {
      "text/plain": [
       "361529.6365968907"
      ]
     },
     "execution_count": 26,
     "metadata": {},
     "output_type": "execute_result"
    }
   ],
   "source": [
    "dfdemand['2018'].values[:, None].sum()"
   ]
  },
  {
   "cell_type": "code",
   "execution_count": null,
   "id": "055b31ae",
   "metadata": {},
   "outputs": [],
   "source": []
  },
  {
   "cell_type": "markdown",
   "id": "cf359898",
   "metadata": {},
   "source": [
    "## Naive forecasting to test our model and constraint satisfaction"
   ]
  },
  {
   "cell_type": "markdown",
   "id": "b9661911",
   "metadata": {},
   "source": [
    "#### Here I assume that the demand for 2019 is exactly the same\n",
    "as the demand for 2019 and that there is a +3 increase in all demand \n",
    "values "
   ]
  },
  {
   "cell_type": "markdown",
   "id": "413f0a0e",
   "metadata": {},
   "source": [
    "#### Forecasting for 2019"
   ]
  },
  {
   "cell_type": "markdown",
   "id": "b5c1dd75",
   "metadata": {},
   "source": [
    "The forecast is basically the 2018 data that I used as forecast to evaluate \n",
    "the constraints. All we need to do is to use the result in the refined forecast above and the result in infrastructure_to_add \n",
    "above, for adding infrastructures"
   ]
  },
  {
   "cell_type": "code",
   "execution_count": 27,
   "id": "a38ea8ee",
   "metadata": {},
   "outputs": [
    {
     "name": "stdout",
     "output_type": "stream",
     "text": [
      "619.0\n",
      "45664.0\n"
     ]
    }
   ],
   "source": [
    "infrastructure_to_add = infrastructure_to_add.reshape(-1, 100)\n",
    "add_fcs_nineteen = infrastructure_to_add # since I optimized for fcs\n",
    "new_fcs_cap1 = dfinfra['existing_num_FCS'].values + add_fcs_nineteen\n",
    "sub_arr = sample_sub\n",
    "print(sub_arr['value'].values[100:200].sum())\n",
    "sub_arr['value'].values[100:200] = new_fcs_cap1\n",
    "print(sub_arr['value'].values[100:200].sum())"
   ]
  },
  {
   "cell_type": "markdown",
   "id": "260e3ac7",
   "metadata": {},
   "source": [
    "For demand values for 2019:"
   ]
  },
  {
   "cell_type": "code",
   "execution_count": 28,
   "id": "dbd300d1",
   "metadata": {},
   "outputs": [
    {
     "name": "stdout",
     "output_type": "stream",
     "text": [
      "361589.5405005043\n",
      "-663190470.3634031\n"
     ]
    }
   ],
   "source": [
    "print(sub_arr['value'].values[200:409800].sum())\n",
    "sub_arr['value'].values[200:409800] = refined_forecast\n",
    "print(sub_arr['value'].values[200:409800].sum())"
   ]
  },
  {
   "cell_type": "markdown",
   "id": "8884e242",
   "metadata": {},
   "source": [
    "#### Forecasting for 2020"
   ]
  },
  {
   "cell_type": "code",
   "execution_count": 29,
   "id": "3e49b8bb",
   "metadata": {},
   "outputs": [],
   "source": [
    "twenty_forecast = dfdemand['2018'] + 3\n",
    "k=30"
   ]
  },
  {
   "cell_type": "code",
   "execution_count": 30,
   "id": "42fe9797",
   "metadata": {},
   "outputs": [
    {
     "data": {
      "text/plain": [
       "array([[0.        ],\n",
       "       [0.        ],\n",
       "       [0.        ],\n",
       "       ...,\n",
       "       [0.        ],\n",
       "       [0.40644196],\n",
       "       [0.        ]])"
      ]
     },
     "execution_count": 30,
     "metadata": {},
     "output_type": "execute_result"
    }
   ],
   "source": [
    "supply_demand(twenty_forecast.values[:, None])\n"
   ]
  },
  {
   "cell_type": "code",
   "execution_count": 31,
   "id": "9a8ddef6",
   "metadata": {},
   "outputs": [],
   "source": [
    "dfinfra['scs_cap'] = dfinfra['existing_num_SCS']*200\n",
    "dfinfra['fcs_cap'] = dfinfra['existing_num_FCS']*400\n",
    "dfinfra['total_cap'] = dfinfra['scs_cap']+ dfinfra['fcs_cap']\n",
    "dfinfra['parking_cap'] = (dfinfra['total_parking_slots'] - dfinfra['existing_num_SCS']) * 400 + (dfinfra['existing_num_SCS']) * 200\n",
    "dfinfra['available_cap'] = dfinfra['parking_cap'] - dfinfra['total_cap']"
   ]
  },
  {
   "cell_type": "code",
   "execution_count": 32,
   "id": "e6e8a4d8",
   "metadata": {},
   "outputs": [
    {
     "data": {
      "text/plain": [
       "array([ 0.,  0.,  0.,  0.,  0.,  0.,  0.,  0.,  2.,  0.,  6.,  0.,  0.,\n",
       "        0.,  0.,  0.,  3.,  3.,  0.,  0.,  0.,  0.,  1.,  0.,  0.,  0.,\n",
       "        0.,  2.,  0.,  2.,  5.,  0.,  0.,  1.,  3.,  5.,  1.,  1.,  7.,\n",
       "        2.,  1., 11.,  1.,  1., 11.,  2.,  6., 11.,  0.,  1.,  1.,  9.,\n",
       "        9.,  0.,  0., 16.,  2., 11., 10.,  4., 11., 13.,  0.,  9., 10.,\n",
       "        0., 17.,  0.,  2.,  8.,  3.,  4., 10.,  5., 18.,  0.,  9.,  6.,\n",
       "        0.,  3.,  7.,  0.,  3.,  4.,  1.,  0.,  0.,  0.,  6.,  0.,  0.,\n",
       "        0.,  0.,  0.,  0.,  0.,  0.,  0.,  0.,  0.])"
      ]
     },
     "execution_count": 32,
     "metadata": {},
     "output_type": "execute_result"
    }
   ],
   "source": [
    "add_infrastructure(Dforecast=twenty_forecast.values[:, None])"
   ]
  },
  {
   "cell_type": "code",
   "execution_count": 33,
   "id": "7db8b5ac",
   "metadata": {},
   "outputs": [
    {
     "data": {
      "text/plain": [
       "array([ 6000.,  6400.,  4400.,  6400.,  6000.,  5200.,  3200.,  8000.,\n",
       "        7200.,  4000.,   800.,  3200.,  4800.,  6400.,  5600.,  5200.,\n",
       "        1600.,     0.,  6800.,  5600.,  3600.,  4000.,  4000.,  5200.,\n",
       "        4000.,  4800.,  5200.,  6000.,  6000.,  6800.,  2800.,  7200.,\n",
       "        6800.,  6000.,  4000.,   400.,  6400.,  1600.,  1600.,  6000.,\n",
       "        4000.,  1200.,  5600.,  6400.,     0.,  6400.,  4400.,  1600.,\n",
       "        4400.,  3600.,  5600.,  -800.,  3200.,  6400.,  7600., -1600.,\n",
       "        4800.,     0.,  -400.,  3600., -2400., -2000.,  6400.,  -800.,\n",
       "        2000.,  7200., -2800.,  4800.,  4000.,  4400.,  6400.,  4800.,\n",
       "        1200.,  5200., -4400.,  6000., -2000.,  2000.,  6800.,  5600.,\n",
       "         400.,  8400.,  2400.,  3600.,     0.,  4000.,  5600.,  5600.,\n",
       "        2400.,  7200.,  4000.,  8400.,  4000.,  5200.,  5600.,  6800.,\n",
       "        6800.,  5600.,  6400.,  4400.])"
      ]
     },
     "execution_count": 33,
     "metadata": {},
     "output_type": "execute_result"
    }
   ],
   "source": [
    "excess_charging_cap(Dforecast=twenty_forecast.values[:, None], k=k)"
   ]
  },
  {
   "cell_type": "code",
   "execution_count": 34,
   "id": "5a93137f",
   "metadata": {},
   "outputs": [
    {
     "data": {
      "text/plain": [
       "array([ 6000.,  6400.,  4400.,  6400.,  6000.,  5200.,  3200.,  8000.,\n",
       "        7200.,  4000.,   800.,  3200.,  4800.,  6400.,  5600.,  5200.,\n",
       "        2000.,     0.,  6800.,  5600.,  3600.,  4000.,  4000.,  5200.,\n",
       "        4000.,  4800.,  5200.,  6400.,  6000.,  7200.,  2800.,  7200.,\n",
       "        6800.,  6000.,  4400.,   400.,  6400.,  1600.,  1600.,  6000.,\n",
       "        4000.,  1200.,  6000.,  6400.,     0.,  6800.,  4400.,  1600.,\n",
       "        4400.,  3600.,  5600.,  -800.,  3200.,  6400.,  7600., -1200.,\n",
       "        4800.,     0.,  -400.,  3600., -2400., -1600.,  6400.,  -800.,\n",
       "        2000.,  7200., -2800.,  4800.,  4000.,  4400.,  6800.,  4800.,\n",
       "        1200.,  5200., -4000.,  6000., -2000.,  2000.,  6800.,  5600.,\n",
       "         400.,  8400.,  2800.,  3600.,     0.,  4000.,  5600.,  5600.,\n",
       "        2400.,  7200.,  4000.,  8400.,  4000.,  5200.,  5600.,  6800.,\n",
       "        6800.,  5600.,  6400.,  4400.])"
      ]
     },
     "execution_count": 34,
     "metadata": {},
     "output_type": "execute_result"
    }
   ],
   "source": [
    "dfinfra['new_FCS'] = dfinfra['existing_num_FCS'].values + to_add\n",
    "dfinfra['new_FCS_cap'] = dfinfra['new_FCS'] * 400\n",
    "dfinfra['excess_charge_cap'] = dfinfra['parking_cap'] - (dfinfra['scs_cap'] + dfinfra['new_FCS_cap'])\n",
    "dfinfra['excess_charge_cap'].values"
   ]
  },
  {
   "cell_type": "code",
   "execution_count": 35,
   "id": "8c64dddd",
   "metadata": {},
   "outputs": [
    {
     "data": {
      "text/plain": [
       "373817.6365968907"
      ]
     },
     "execution_count": 35,
     "metadata": {},
     "output_type": "execute_result"
    }
   ],
   "source": [
    "twenty_forecast.values.sum()"
   ]
  },
  {
   "cell_type": "code",
   "execution_count": 36,
   "id": "fa7356bb",
   "metadata": {},
   "outputs": [
    {
     "data": {
      "text/plain": [
       "array([   0.        ,    0.        ,    0.        , ..., 4400.        ,\n",
       "       4400.40644196, 4400.        ])"
      ]
     },
     "execution_count": 36,
     "metadata": {},
     "output_type": "execute_result"
    }
   ],
   "source": [
    "adjusted_forecast(Dforecast=twenty_forecast.values[:, None], k=k)"
   ]
  },
  {
   "cell_type": "code",
   "execution_count": 37,
   "id": "7a673d5a",
   "metadata": {},
   "outputs": [
    {
     "data": {
      "text/plain": [
       "array([   0.        ,    0.        ,    0.        , ..., 4400.        ,\n",
       "       4400.28278986, 4400.        ])"
      ]
     },
     "execution_count": 37,
     "metadata": {},
     "output_type": "execute_result"
    }
   ],
   "source": [
    "adjusted_forecast()"
   ]
  },
  {
   "cell_type": "code",
   "execution_count": 38,
   "id": "fe89783a",
   "metadata": {},
   "outputs": [],
   "source": [
    "refined_forecast_twenty = adjusted_forecast(Dforecast=twenty_forecast.values[:, None], k=k)"
   ]
  },
  {
   "cell_type": "code",
   "execution_count": 39,
   "id": "145536bc",
   "metadata": {},
   "outputs": [
    {
     "data": {
      "text/plain": [
       "(4096,)"
      ]
     },
     "execution_count": 39,
     "metadata": {},
     "output_type": "execute_result"
    }
   ],
   "source": [
    "forecasty2 = np.sum(refined_forecast_twenty.reshape(4096, -1), 1)\n",
    "forecasty2.shape"
   ]
  },
  {
   "cell_type": "code",
   "execution_count": 40,
   "id": "bbf28a97",
   "metadata": {},
   "outputs": [
    {
     "data": {
      "text/plain": [
       "array([1.61195721e+01, 1.50200909e+01, 1.70182537e+01, ...,\n",
       "       4.40006219e+05, 4.40009263e+05, 4.40009861e+05])"
      ]
     },
     "execution_count": 40,
     "metadata": {},
     "output_type": "execute_result"
    }
   ],
   "source": [
    "forecasty2"
   ]
  },
  {
   "cell_type": "code",
   "execution_count": null,
   "id": "70e991cd",
   "metadata": {},
   "outputs": [],
   "source": []
  },
  {
   "cell_type": "code",
   "execution_count": 41,
   "id": "96730055",
   "metadata": {},
   "outputs": [
    {
     "name": "stdout",
     "output_type": "stream",
     "text": [
      "45058.0\n"
     ]
    },
    {
     "data": {
      "text/plain": [
       "array([0.0000e+00, 0.0000e+00, 0.0000e+00, 0.0000e+00, 0.0000e+00,\n",
       "       0.0000e+00, 0.0000e+00, 0.0000e+00, 0.0000e+00, 0.0000e+00,\n",
       "       0.0000e+00, 0.0000e+00, 0.0000e+00, 0.0000e+00, 0.0000e+00,\n",
       "       0.0000e+00, 0.0000e+00, 0.0000e+00, 0.0000e+00, 0.0000e+00,\n",
       "       0.0000e+00, 0.0000e+00, 0.0000e+00, 0.0000e+00, 0.0000e+00,\n",
       "       0.0000e+00, 0.0000e+00, 0.0000e+00, 0.0000e+00, 0.0000e+00,\n",
       "       0.0000e+00, 0.0000e+00, 0.0000e+00, 1.0000e+00, 0.0000e+00,\n",
       "       0.0000e+00, 0.0000e+00, 0.0000e+00, 0.0000e+00, 0.0000e+00,\n",
       "       0.0000e+00, 0.0000e+00, 0.0000e+00, 0.0000e+00, 1.1000e+01,\n",
       "       2.0000e+00, 6.0000e+00, 0.0000e+00, 0.0000e+00, 0.0000e+00,\n",
       "       0.0000e+00, 0.0000e+00, 0.0000e+00, 0.0000e+00, 0.0000e+00,\n",
       "       0.0000e+00, 0.0000e+00, 0.0000e+00, 0.0000e+00, 0.0000e+00,\n",
       "       0.0000e+00, 0.0000e+00, 0.0000e+00, 0.0000e+00, 0.0000e+00,\n",
       "       0.0000e+00, 0.0000e+00, 0.0000e+00, 0.0000e+00, 0.0000e+00,\n",
       "       0.0000e+00, 0.0000e+00, 0.0000e+00, 0.0000e+00, 0.0000e+00,\n",
       "       0.0000e+00, 0.0000e+00, 0.0000e+00, 0.0000e+00, 0.0000e+00,\n",
       "       0.0000e+00, 0.0000e+00, 0.0000e+00, 0.0000e+00, 0.0000e+00,\n",
       "       0.0000e+00, 0.0000e+00, 0.0000e+00, 0.0000e+00, 0.0000e+00,\n",
       "       0.0000e+00, 0.0000e+00, 0.0000e+00, 0.0000e+00, 0.0000e+00,\n",
       "       0.0000e+00, 0.0000e+00, 0.0000e+00, 8.9000e+01, 4.4949e+04])"
      ]
     },
     "execution_count": 41,
     "metadata": {},
     "output_type": "execute_result"
    }
   ],
   "source": [
    "infrastructure_to_add2 = add_infrastructure(Dforecast=forecasty2[:, None])\n",
    "print(infrastructure_to_add2.sum())\n",
    "infrastructure_to_add2"
   ]
  },
  {
   "cell_type": "code",
   "execution_count": 42,
   "id": "a42281b3",
   "metadata": {},
   "outputs": [
    {
     "name": "stdout",
     "output_type": "stream",
     "text": [
      "[ 3.  7. 14.  5.  6.  6.  8.  6.  1.  5.  0.  4.  5.  5. 12.  6.  2.  0.\n",
      "  8.  8.  8.  8.  4.  7.  3. 10. 11.  4.  6.  3.  2.  9. 10.  7.  1.  1.\n",
      "  9.  4.  4.  6.  6.  4.  4. 10.  6.  6.  8.  1. 10. 13.  8.  1.  7. 16.\n",
      " 10.  1.  9.  1.  3.  3.  3.  0. 10.  5.  2. 11.  2. 13.  9.  6.  8.  7.\n",
      "  1.  4.  1. 15.  2. 11.  8.  6.  9.  7.  7.  6.  2.  7.  7.  5.  1. 10.\n",
      "  5. 12.  3.  6.  9.  4. 10. 14.  5. 11.]\n"
     ]
    }
   ],
   "source": [
    "print(sample_sub['value'].values[409900:410000])"
   ]
  },
  {
   "cell_type": "code",
   "execution_count": 43,
   "id": "4d57594d",
   "metadata": {},
   "outputs": [
    {
     "data": {
      "text/plain": [
       "array([3.000e+00, 7.000e+00, 1.400e+01, 5.000e+00, 6.000e+00, 6.000e+00,\n",
       "       8.000e+00, 6.000e+00, 1.000e+00, 5.000e+00, 0.000e+00, 4.000e+00,\n",
       "       5.000e+00, 5.000e+00, 1.200e+01, 6.000e+00, 2.000e+00, 0.000e+00,\n",
       "       8.000e+00, 8.000e+00, 8.000e+00, 8.000e+00, 4.000e+00, 7.000e+00,\n",
       "       3.000e+00, 1.000e+01, 1.100e+01, 4.000e+00, 6.000e+00, 3.000e+00,\n",
       "       2.000e+00, 9.000e+00, 1.000e+01, 8.000e+00, 1.000e+00, 1.000e+00,\n",
       "       9.000e+00, 4.000e+00, 4.000e+00, 6.000e+00, 6.000e+00, 4.000e+00,\n",
       "       4.000e+00, 1.000e+01, 1.700e+01, 8.000e+00, 1.400e+01, 1.000e+00,\n",
       "       1.000e+01, 1.300e+01, 8.000e+00, 1.000e+00, 7.000e+00, 1.600e+01,\n",
       "       1.000e+01, 1.000e+00, 9.000e+00, 1.000e+00, 3.000e+00, 3.000e+00,\n",
       "       3.000e+00, 0.000e+00, 1.000e+01, 5.000e+00, 2.000e+00, 1.100e+01,\n",
       "       2.000e+00, 1.300e+01, 9.000e+00, 6.000e+00, 8.000e+00, 7.000e+00,\n",
       "       1.000e+00, 4.000e+00, 1.000e+00, 1.500e+01, 2.000e+00, 1.100e+01,\n",
       "       8.000e+00, 6.000e+00, 9.000e+00, 7.000e+00, 7.000e+00, 6.000e+00,\n",
       "       2.000e+00, 7.000e+00, 7.000e+00, 5.000e+00, 1.000e+00, 1.000e+01,\n",
       "       5.000e+00, 1.200e+01, 3.000e+00, 6.000e+00, 9.000e+00, 4.000e+00,\n",
       "       1.000e+01, 1.400e+01, 9.400e+01, 4.496e+04])"
      ]
     },
     "execution_count": 43,
     "metadata": {},
     "output_type": "execute_result"
    }
   ],
   "source": [
    "infrastructure_to_add2 = infrastructure_to_add2.reshape(-1, 100)\n",
    "add_fcs_twenty = infrastructure_to_add2 # since I optimized for fcs\n",
    "#print(dfinfra['existing_num_FCS'])\n",
    "new_fcs_cap2 = dfinfra['existing_num_FCS'].values + add_fcs_twenty\n",
    "#print(new_fcs_cap2)\n",
    "sub_arr['value'].values[409900:410000] = new_fcs_cap2\n",
    "sub_arr['value'].values[409900:410000]"
   ]
  },
  {
   "cell_type": "code",
   "execution_count": 44,
   "id": "edcc4ed0",
   "metadata": {},
   "outputs": [
    {
     "data": {
      "text/plain": [
       "-662736399.8229028"
      ]
     },
     "execution_count": 44,
     "metadata": {},
     "output_type": "execute_result"
    }
   ],
   "source": [
    "sub_arr['value'].values.sum()"
   ]
  },
  {
   "cell_type": "code",
   "execution_count": 45,
   "id": "b9816ac4",
   "metadata": {},
   "outputs": [
    {
     "data": {
      "text/plain": [
       "-662736399.8229028"
      ]
     },
     "execution_count": 45,
     "metadata": {},
     "output_type": "execute_result"
    }
   ],
   "source": [
    "sample_sub['value'].values.sum()"
   ]
  },
  {
   "cell_type": "markdown",
   "id": "7ccee0d4",
   "metadata": {},
   "source": [
    "#### For demand values in 2020"
   ]
  },
  {
   "cell_type": "code",
   "execution_count": 46,
   "id": "005086cd",
   "metadata": {},
   "outputs": [
    {
     "name": "stdout",
     "output_type": "stream",
     "text": [
      "361589.5405005043\n"
     ]
    }
   ],
   "source": [
    "print(sub_arr['value'].values[410000:].sum())"
   ]
  },
  {
   "cell_type": "code",
   "execution_count": 47,
   "id": "8d98ffbb",
   "metadata": {},
   "outputs": [
    {
     "name": "stdout",
     "output_type": "stream",
     "text": [
      "-663190470.3634031\n"
     ]
    }
   ],
   "source": [
    "sub_arr['value'].values[410000:] = refined_forecast\n",
    "print(sub_arr['value'].values[410000:].sum())"
   ]
  },
  {
   "cell_type": "code",
   "execution_count": 48,
   "id": "99c34bb5",
   "metadata": {},
   "outputs": [
    {
     "data": {
      "text/html": [
       "<div>\n",
       "<style scoped>\n",
       "    .dataframe tbody tr th:only-of-type {\n",
       "        vertical-align: middle;\n",
       "    }\n",
       "\n",
       "    .dataframe tbody tr th {\n",
       "        vertical-align: top;\n",
       "    }\n",
       "\n",
       "    .dataframe thead th {\n",
       "        text-align: right;\n",
       "    }\n",
       "</style>\n",
       "<table border=\"1\" class=\"dataframe\">\n",
       "  <thead>\n",
       "    <tr style=\"text-align: right;\">\n",
       "      <th></th>\n",
       "      <th>supply_point_index</th>\n",
       "      <th>x_coordinate</th>\n",
       "      <th>y_coordinate</th>\n",
       "      <th>total_parking_slots</th>\n",
       "      <th>existing_num_SCS</th>\n",
       "      <th>existing_num_FCS</th>\n",
       "      <th>scs_cap</th>\n",
       "      <th>fcs_cap</th>\n",
       "      <th>total_cap</th>\n",
       "      <th>parking_cap</th>\n",
       "      <th>available_cap</th>\n",
       "      <th>add_cap</th>\n",
       "      <th>excess_cap</th>\n",
       "      <th>new_FCS</th>\n",
       "      <th>new_FCS_cap</th>\n",
       "      <th>excess_charge_cap</th>\n",
       "    </tr>\n",
       "  </thead>\n",
       "  <tbody>\n",
       "    <tr>\n",
       "      <th>0</th>\n",
       "      <td>0</td>\n",
       "      <td>50.163110</td>\n",
       "      <td>19.412014</td>\n",
       "      <td>23</td>\n",
       "      <td>5</td>\n",
       "      <td>3</td>\n",
       "      <td>1000</td>\n",
       "      <td>1200</td>\n",
       "      <td>2200</td>\n",
       "      <td>8200</td>\n",
       "      <td>6000</td>\n",
       "      <td>0.0</td>\n",
       "      <td>6000.0</td>\n",
       "      <td>3.0</td>\n",
       "      <td>1200.0</td>\n",
       "      <td>6000.0</td>\n",
       "    </tr>\n",
       "    <tr>\n",
       "      <th>1</th>\n",
       "      <td>1</td>\n",
       "      <td>37.336451</td>\n",
       "      <td>58.119225</td>\n",
       "      <td>27</td>\n",
       "      <td>4</td>\n",
       "      <td>7</td>\n",
       "      <td>800</td>\n",
       "      <td>2800</td>\n",
       "      <td>3600</td>\n",
       "      <td>10000</td>\n",
       "      <td>6400</td>\n",
       "      <td>0.0</td>\n",
       "      <td>6400.0</td>\n",
       "      <td>7.0</td>\n",
       "      <td>2800.0</td>\n",
       "      <td>6400.0</td>\n",
       "    </tr>\n",
       "    <tr>\n",
       "      <th>2</th>\n",
       "      <td>2</td>\n",
       "      <td>46.709232</td>\n",
       "      <td>57.525650</td>\n",
       "      <td>31</td>\n",
       "      <td>6</td>\n",
       "      <td>14</td>\n",
       "      <td>1200</td>\n",
       "      <td>5600</td>\n",
       "      <td>6800</td>\n",
       "      <td>11200</td>\n",
       "      <td>4400</td>\n",
       "      <td>0.0</td>\n",
       "      <td>4400.0</td>\n",
       "      <td>14.0</td>\n",
       "      <td>5600.0</td>\n",
       "      <td>4400.0</td>\n",
       "    </tr>\n",
       "    <tr>\n",
       "      <th>3</th>\n",
       "      <td>3</td>\n",
       "      <td>30.528626</td>\n",
       "      <td>55.379835</td>\n",
       "      <td>26</td>\n",
       "      <td>5</td>\n",
       "      <td>5</td>\n",
       "      <td>1000</td>\n",
       "      <td>2000</td>\n",
       "      <td>3000</td>\n",
       "      <td>9400</td>\n",
       "      <td>6400</td>\n",
       "      <td>0.0</td>\n",
       "      <td>6400.0</td>\n",
       "      <td>5.0</td>\n",
       "      <td>2000.0</td>\n",
       "      <td>6400.0</td>\n",
       "    </tr>\n",
       "    <tr>\n",
       "      <th>4</th>\n",
       "      <td>4</td>\n",
       "      <td>51.521781</td>\n",
       "      <td>35.116755</td>\n",
       "      <td>32</td>\n",
       "      <td>11</td>\n",
       "      <td>6</td>\n",
       "      <td>2200</td>\n",
       "      <td>2400</td>\n",
       "      <td>4600</td>\n",
       "      <td>10600</td>\n",
       "      <td>6000</td>\n",
       "      <td>0.0</td>\n",
       "      <td>6000.0</td>\n",
       "      <td>6.0</td>\n",
       "      <td>2400.0</td>\n",
       "      <td>6000.0</td>\n",
       "    </tr>\n",
       "  </tbody>\n",
       "</table>\n",
       "</div>"
      ],
      "text/plain": [
       "   supply_point_index  x_coordinate  y_coordinate  total_parking_slots  \\\n",
       "0                   0     50.163110     19.412014                   23   \n",
       "1                   1     37.336451     58.119225                   27   \n",
       "2                   2     46.709232     57.525650                   31   \n",
       "3                   3     30.528626     55.379835                   26   \n",
       "4                   4     51.521781     35.116755                   32   \n",
       "\n",
       "   existing_num_SCS  existing_num_FCS  scs_cap  fcs_cap  total_cap  \\\n",
       "0                 5                 3     1000     1200       2200   \n",
       "1                 4                 7      800     2800       3600   \n",
       "2                 6                14     1200     5600       6800   \n",
       "3                 5                 5     1000     2000       3000   \n",
       "4                11                 6     2200     2400       4600   \n",
       "\n",
       "   parking_cap  available_cap  add_cap  excess_cap  new_FCS  new_FCS_cap  \\\n",
       "0         8200           6000      0.0      6000.0      3.0       1200.0   \n",
       "1        10000           6400      0.0      6400.0      7.0       2800.0   \n",
       "2        11200           4400      0.0      4400.0     14.0       5600.0   \n",
       "3         9400           6400      0.0      6400.0      5.0       2000.0   \n",
       "4        10600           6000      0.0      6000.0      6.0       2400.0   \n",
       "\n",
       "   excess_charge_cap  \n",
       "0             6000.0  \n",
       "1             6400.0  \n",
       "2             4400.0  \n",
       "3             6400.0  \n",
       "4             6000.0  "
      ]
     },
     "execution_count": 48,
     "metadata": {},
     "output_type": "execute_result"
    }
   ],
   "source": [
    "dfinfra.head()"
   ]
  },
  {
   "cell_type": "code",
   "execution_count": 49,
   "id": "228f14f1",
   "metadata": {},
   "outputs": [
    {
     "data": {
      "text/plain": [
       "2500"
      ]
     },
     "execution_count": 49,
     "metadata": {},
     "output_type": "execute_result"
    }
   ],
   "source": [
    "dfinfra['total_parking_slots'].sum()"
   ]
  },
  {
   "cell_type": "code",
   "execution_count": 50,
   "id": "dce308cb",
   "metadata": {},
   "outputs": [
    {
     "data": {
      "text/plain": [
       "0.0"
      ]
     },
     "execution_count": 50,
     "metadata": {},
     "output_type": "execute_result"
    }
   ],
   "source": [
    "(sub_arr['value'][200:409800] + sub_arr['value'][410000:]).sum()"
   ]
  },
  {
   "cell_type": "code",
   "execution_count": 51,
   "id": "b234ba20",
   "metadata": {},
   "outputs": [],
   "source": [
    "dfinfra['total_slot_19'] = sub_arr['value'][:100] + sub_arr['value'][100:200] \n",
    "dfinfra['total_slot_20'] = sub_arr['value'][409800:409900] + sub_arr['value'][409900:410000] "
   ]
  },
  {
   "cell_type": "code",
   "execution_count": 52,
   "id": "789fb851",
   "metadata": {},
   "outputs": [
    {
     "data": {
      "text/html": [
       "<div>\n",
       "<style scoped>\n",
       "    .dataframe tbody tr th:only-of-type {\n",
       "        vertical-align: middle;\n",
       "    }\n",
       "\n",
       "    .dataframe tbody tr th {\n",
       "        vertical-align: top;\n",
       "    }\n",
       "\n",
       "    .dataframe thead th {\n",
       "        text-align: right;\n",
       "    }\n",
       "</style>\n",
       "<table border=\"1\" class=\"dataframe\">\n",
       "  <thead>\n",
       "    <tr style=\"text-align: right;\">\n",
       "      <th></th>\n",
       "      <th>total_parking_slots</th>\n",
       "      <th>total_slot_20</th>\n",
       "    </tr>\n",
       "  </thead>\n",
       "  <tbody>\n",
       "  </tbody>\n",
       "</table>\n",
       "</div>"
      ],
      "text/plain": [
       "Empty DataFrame\n",
       "Columns: [total_parking_slots, total_slot_20]\n",
       "Index: []"
      ]
     },
     "execution_count": 52,
     "metadata": {},
     "output_type": "execute_result"
    }
   ],
   "source": [
    "dfinfra[['total_parking_slots','total_slot_20']].query('total_parking_slots < total_slot_20')"
   ]
  },
  {
   "cell_type": "code",
   "execution_count": 53,
   "id": "448267b2",
   "metadata": {},
   "outputs": [
    {
     "name": "stdout",
     "output_type": "stream",
     "text": [
      "Empty DataFrame\n",
      "Columns: [supply_point_index, x_coordinate, y_coordinate, total_parking_slots, existing_num_SCS, existing_num_FCS, scs_cap, fcs_cap, total_cap, parking_cap, available_cap, add_cap, excess_cap, new_FCS, new_FCS_cap, excess_charge_cap, total_slot_19, total_slot_20]\n",
      "Index: []\n"
     ]
    },
    {
     "data": {
      "text/html": [
       "<div>\n",
       "<style scoped>\n",
       "    .dataframe tbody tr th:only-of-type {\n",
       "        vertical-align: middle;\n",
       "    }\n",
       "\n",
       "    .dataframe tbody tr th {\n",
       "        vertical-align: top;\n",
       "    }\n",
       "\n",
       "    .dataframe thead th {\n",
       "        text-align: right;\n",
       "    }\n",
       "</style>\n",
       "<table border=\"1\" class=\"dataframe\">\n",
       "  <thead>\n",
       "    <tr style=\"text-align: right;\">\n",
       "      <th></th>\n",
       "      <th>supply_point_index</th>\n",
       "      <th>x_coordinate</th>\n",
       "      <th>y_coordinate</th>\n",
       "      <th>total_parking_slots</th>\n",
       "      <th>existing_num_SCS</th>\n",
       "      <th>existing_num_FCS</th>\n",
       "      <th>scs_cap</th>\n",
       "      <th>fcs_cap</th>\n",
       "      <th>total_cap</th>\n",
       "      <th>parking_cap</th>\n",
       "      <th>available_cap</th>\n",
       "      <th>add_cap</th>\n",
       "      <th>excess_cap</th>\n",
       "      <th>new_FCS</th>\n",
       "      <th>new_FCS_cap</th>\n",
       "      <th>excess_charge_cap</th>\n",
       "      <th>total_slot_19</th>\n",
       "      <th>total_slot_20</th>\n",
       "    </tr>\n",
       "  </thead>\n",
       "  <tbody>\n",
       "  </tbody>\n",
       "</table>\n",
       "</div>"
      ],
      "text/plain": [
       "Empty DataFrame\n",
       "Columns: [supply_point_index, x_coordinate, y_coordinate, total_parking_slots, existing_num_SCS, existing_num_FCS, scs_cap, fcs_cap, total_cap, parking_cap, available_cap, add_cap, excess_cap, new_FCS, new_FCS_cap, excess_charge_cap, total_slot_19, total_slot_20]\n",
       "Index: []"
      ]
     },
     "execution_count": 53,
     "metadata": {},
     "output_type": "execute_result"
    }
   ],
   "source": [
    "#Double checking for constraint 3\n",
    "dfinfra.head()\n",
    "print(dfinfra.where(dfinfra['total_parking_slots'] < dfinfra['total_slot_19']).dropna(axis=0))\n",
    "dfinfra.where(dfinfra['total_parking_slots'] < dfinfra['total_slot_20']).dropna(axis=0)"
   ]
  },
  {
   "cell_type": "raw",
   "id": "bade5634",
   "metadata": {},
   "source": [
    "# Double checking to ensure adherence to constraint 3\n",
    "for i in range(len(sub_arr['value'])):\n",
    "    if sub_arr['value'][i] < 0:\n",
    "        sub_arr['value'][i] = 0"
   ]
  },
  {
   "cell_type": "code",
   "execution_count": 54,
   "id": "cc6c7b14",
   "metadata": {},
   "outputs": [
    {
     "data": {
      "text/html": [
       "<div>\n",
       "<style scoped>\n",
       "    .dataframe tbody tr th:only-of-type {\n",
       "        vertical-align: middle;\n",
       "    }\n",
       "\n",
       "    .dataframe tbody tr th {\n",
       "        vertical-align: top;\n",
       "    }\n",
       "\n",
       "    .dataframe thead th {\n",
       "        text-align: right;\n",
       "    }\n",
       "</style>\n",
       "<table border=\"1\" class=\"dataframe\">\n",
       "  <thead>\n",
       "    <tr style=\"text-align: right;\">\n",
       "      <th></th>\n",
       "      <th>year</th>\n",
       "      <th>data_type</th>\n",
       "      <th>demand_point_index</th>\n",
       "      <th>supply_point_index</th>\n",
       "      <th>value</th>\n",
       "    </tr>\n",
       "  </thead>\n",
       "  <tbody>\n",
       "    <tr>\n",
       "      <th>0</th>\n",
       "      <td>2019</td>\n",
       "      <td>SCS</td>\n",
       "      <td>NaN</td>\n",
       "      <td>0</td>\n",
       "      <td>5.0</td>\n",
       "    </tr>\n",
       "    <tr>\n",
       "      <th>1</th>\n",
       "      <td>2019</td>\n",
       "      <td>SCS</td>\n",
       "      <td>NaN</td>\n",
       "      <td>1</td>\n",
       "      <td>4.0</td>\n",
       "    </tr>\n",
       "    <tr>\n",
       "      <th>2</th>\n",
       "      <td>2019</td>\n",
       "      <td>SCS</td>\n",
       "      <td>NaN</td>\n",
       "      <td>2</td>\n",
       "      <td>6.0</td>\n",
       "    </tr>\n",
       "    <tr>\n",
       "      <th>3</th>\n",
       "      <td>2019</td>\n",
       "      <td>SCS</td>\n",
       "      <td>NaN</td>\n",
       "      <td>3</td>\n",
       "      <td>5.0</td>\n",
       "    </tr>\n",
       "    <tr>\n",
       "      <th>4</th>\n",
       "      <td>2019</td>\n",
       "      <td>SCS</td>\n",
       "      <td>NaN</td>\n",
       "      <td>4</td>\n",
       "      <td>11.0</td>\n",
       "    </tr>\n",
       "    <tr>\n",
       "      <th>...</th>\n",
       "      <td>...</td>\n",
       "      <td>...</td>\n",
       "      <td>...</td>\n",
       "      <td>...</td>\n",
       "      <td>...</td>\n",
       "    </tr>\n",
       "    <tr>\n",
       "      <th>196</th>\n",
       "      <td>2019</td>\n",
       "      <td>FCS</td>\n",
       "      <td>NaN</td>\n",
       "      <td>96</td>\n",
       "      <td>10.0</td>\n",
       "    </tr>\n",
       "    <tr>\n",
       "      <th>197</th>\n",
       "      <td>2019</td>\n",
       "      <td>FCS</td>\n",
       "      <td>NaN</td>\n",
       "      <td>97</td>\n",
       "      <td>14.0</td>\n",
       "    </tr>\n",
       "    <tr>\n",
       "      <th>198</th>\n",
       "      <td>2019</td>\n",
       "      <td>FCS</td>\n",
       "      <td>NaN</td>\n",
       "      <td>98</td>\n",
       "      <td>94.0</td>\n",
       "    </tr>\n",
       "    <tr>\n",
       "      <th>199</th>\n",
       "      <td>2019</td>\n",
       "      <td>FCS</td>\n",
       "      <td>NaN</td>\n",
       "      <td>99</td>\n",
       "      <td>44960.0</td>\n",
       "    </tr>\n",
       "    <tr>\n",
       "      <th>200</th>\n",
       "      <td>2019</td>\n",
       "      <td>DS</td>\n",
       "      <td>0.0</td>\n",
       "      <td>0</td>\n",
       "      <td>0.0</td>\n",
       "    </tr>\n",
       "  </tbody>\n",
       "</table>\n",
       "<p>201 rows × 5 columns</p>\n",
       "</div>"
      ],
      "text/plain": [
       "     year data_type  demand_point_index  supply_point_index    value\n",
       "0    2019       SCS                 NaN                   0      5.0\n",
       "1    2019       SCS                 NaN                   1      4.0\n",
       "2    2019       SCS                 NaN                   2      6.0\n",
       "3    2019       SCS                 NaN                   3      5.0\n",
       "4    2019       SCS                 NaN                   4     11.0\n",
       "..    ...       ...                 ...                 ...      ...\n",
       "196  2019       FCS                 NaN                  96     10.0\n",
       "197  2019       FCS                 NaN                  97     14.0\n",
       "198  2019       FCS                 NaN                  98     94.0\n",
       "199  2019       FCS                 NaN                  99  44960.0\n",
       "200  2019        DS                 0.0                   0      0.0\n",
       "\n",
       "[201 rows x 5 columns]"
      ]
     },
     "execution_count": 54,
     "metadata": {},
     "output_type": "execute_result"
    }
   ],
   "source": [
    "sub_arr.head(201)"
   ]
  },
  {
   "cell_type": "code",
   "execution_count": 55,
   "id": "a49034b0",
   "metadata": {},
   "outputs": [],
   "source": [
    "#sub_arr.to_csv('twentyseventh4.csv')"
   ]
  },
  {
   "cell_type": "code",
   "execution_count": 56,
   "id": "5faa750c",
   "metadata": {},
   "outputs": [
    {
     "ename": "FileNotFoundError",
     "evalue": "[Errno 2] No such file or directory: 'twentyseventh4.csv'",
     "output_type": "error",
     "traceback": [
      "\u001b[1;31m---------------------------------------------------------------------------\u001b[0m",
      "\u001b[1;31mFileNotFoundError\u001b[0m                         Traceback (most recent call last)",
      "Input \u001b[1;32mIn [56]\u001b[0m, in \u001b[0;36m<cell line: 1>\u001b[1;34m()\u001b[0m\n\u001b[1;32m----> 1\u001b[0m df \u001b[38;5;241m=\u001b[39m \u001b[43mpd\u001b[49m\u001b[38;5;241;43m.\u001b[39;49m\u001b[43mread_csv\u001b[49m\u001b[43m(\u001b[49m\u001b[38;5;124;43m'\u001b[39;49m\u001b[38;5;124;43mtwentyseventh4.csv\u001b[39;49m\u001b[38;5;124;43m'\u001b[39;49m\u001b[43m)\u001b[49m\n\u001b[0;32m      2\u001b[0m df\n",
      "File \u001b[1;32m~\\anaconda3\\lib\\site-packages\\pandas\\util\\_decorators.py:311\u001b[0m, in \u001b[0;36mdeprecate_nonkeyword_arguments.<locals>.decorate.<locals>.wrapper\u001b[1;34m(*args, **kwargs)\u001b[0m\n\u001b[0;32m    305\u001b[0m \u001b[38;5;28;01mif\u001b[39;00m \u001b[38;5;28mlen\u001b[39m(args) \u001b[38;5;241m>\u001b[39m num_allow_args:\n\u001b[0;32m    306\u001b[0m     warnings\u001b[38;5;241m.\u001b[39mwarn(\n\u001b[0;32m    307\u001b[0m         msg\u001b[38;5;241m.\u001b[39mformat(arguments\u001b[38;5;241m=\u001b[39marguments),\n\u001b[0;32m    308\u001b[0m         \u001b[38;5;167;01mFutureWarning\u001b[39;00m,\n\u001b[0;32m    309\u001b[0m         stacklevel\u001b[38;5;241m=\u001b[39mstacklevel,\n\u001b[0;32m    310\u001b[0m     )\n\u001b[1;32m--> 311\u001b[0m \u001b[38;5;28;01mreturn\u001b[39;00m func(\u001b[38;5;241m*\u001b[39margs, \u001b[38;5;241m*\u001b[39m\u001b[38;5;241m*\u001b[39mkwargs)\n",
      "File \u001b[1;32m~\\anaconda3\\lib\\site-packages\\pandas\\io\\parsers\\readers.py:680\u001b[0m, in \u001b[0;36mread_csv\u001b[1;34m(filepath_or_buffer, sep, delimiter, header, names, index_col, usecols, squeeze, prefix, mangle_dupe_cols, dtype, engine, converters, true_values, false_values, skipinitialspace, skiprows, skipfooter, nrows, na_values, keep_default_na, na_filter, verbose, skip_blank_lines, parse_dates, infer_datetime_format, keep_date_col, date_parser, dayfirst, cache_dates, iterator, chunksize, compression, thousands, decimal, lineterminator, quotechar, quoting, doublequote, escapechar, comment, encoding, encoding_errors, dialect, error_bad_lines, warn_bad_lines, on_bad_lines, delim_whitespace, low_memory, memory_map, float_precision, storage_options)\u001b[0m\n\u001b[0;32m    665\u001b[0m kwds_defaults \u001b[38;5;241m=\u001b[39m _refine_defaults_read(\n\u001b[0;32m    666\u001b[0m     dialect,\n\u001b[0;32m    667\u001b[0m     delimiter,\n\u001b[1;32m   (...)\u001b[0m\n\u001b[0;32m    676\u001b[0m     defaults\u001b[38;5;241m=\u001b[39m{\u001b[38;5;124m\"\u001b[39m\u001b[38;5;124mdelimiter\u001b[39m\u001b[38;5;124m\"\u001b[39m: \u001b[38;5;124m\"\u001b[39m\u001b[38;5;124m,\u001b[39m\u001b[38;5;124m\"\u001b[39m},\n\u001b[0;32m    677\u001b[0m )\n\u001b[0;32m    678\u001b[0m kwds\u001b[38;5;241m.\u001b[39mupdate(kwds_defaults)\n\u001b[1;32m--> 680\u001b[0m \u001b[38;5;28;01mreturn\u001b[39;00m \u001b[43m_read\u001b[49m\u001b[43m(\u001b[49m\u001b[43mfilepath_or_buffer\u001b[49m\u001b[43m,\u001b[49m\u001b[43m \u001b[49m\u001b[43mkwds\u001b[49m\u001b[43m)\u001b[49m\n",
      "File \u001b[1;32m~\\anaconda3\\lib\\site-packages\\pandas\\io\\parsers\\readers.py:575\u001b[0m, in \u001b[0;36m_read\u001b[1;34m(filepath_or_buffer, kwds)\u001b[0m\n\u001b[0;32m    572\u001b[0m _validate_names(kwds\u001b[38;5;241m.\u001b[39mget(\u001b[38;5;124m\"\u001b[39m\u001b[38;5;124mnames\u001b[39m\u001b[38;5;124m\"\u001b[39m, \u001b[38;5;28;01mNone\u001b[39;00m))\n\u001b[0;32m    574\u001b[0m \u001b[38;5;66;03m# Create the parser.\u001b[39;00m\n\u001b[1;32m--> 575\u001b[0m parser \u001b[38;5;241m=\u001b[39m TextFileReader(filepath_or_buffer, \u001b[38;5;241m*\u001b[39m\u001b[38;5;241m*\u001b[39mkwds)\n\u001b[0;32m    577\u001b[0m \u001b[38;5;28;01mif\u001b[39;00m chunksize \u001b[38;5;129;01mor\u001b[39;00m iterator:\n\u001b[0;32m    578\u001b[0m     \u001b[38;5;28;01mreturn\u001b[39;00m parser\n",
      "File \u001b[1;32m~\\anaconda3\\lib\\site-packages\\pandas\\io\\parsers\\readers.py:933\u001b[0m, in \u001b[0;36mTextFileReader.__init__\u001b[1;34m(self, f, engine, **kwds)\u001b[0m\n\u001b[0;32m    930\u001b[0m     \u001b[38;5;28mself\u001b[39m\u001b[38;5;241m.\u001b[39moptions[\u001b[38;5;124m\"\u001b[39m\u001b[38;5;124mhas_index_names\u001b[39m\u001b[38;5;124m\"\u001b[39m] \u001b[38;5;241m=\u001b[39m kwds[\u001b[38;5;124m\"\u001b[39m\u001b[38;5;124mhas_index_names\u001b[39m\u001b[38;5;124m\"\u001b[39m]\n\u001b[0;32m    932\u001b[0m \u001b[38;5;28mself\u001b[39m\u001b[38;5;241m.\u001b[39mhandles: IOHandles \u001b[38;5;241m|\u001b[39m \u001b[38;5;28;01mNone\u001b[39;00m \u001b[38;5;241m=\u001b[39m \u001b[38;5;28;01mNone\u001b[39;00m\n\u001b[1;32m--> 933\u001b[0m \u001b[38;5;28mself\u001b[39m\u001b[38;5;241m.\u001b[39m_engine \u001b[38;5;241m=\u001b[39m \u001b[38;5;28;43mself\u001b[39;49m\u001b[38;5;241;43m.\u001b[39;49m\u001b[43m_make_engine\u001b[49m\u001b[43m(\u001b[49m\u001b[43mf\u001b[49m\u001b[43m,\u001b[49m\u001b[43m \u001b[49m\u001b[38;5;28;43mself\u001b[39;49m\u001b[38;5;241;43m.\u001b[39;49m\u001b[43mengine\u001b[49m\u001b[43m)\u001b[49m\n",
      "File \u001b[1;32m~\\anaconda3\\lib\\site-packages\\pandas\\io\\parsers\\readers.py:1217\u001b[0m, in \u001b[0;36mTextFileReader._make_engine\u001b[1;34m(self, f, engine)\u001b[0m\n\u001b[0;32m   1213\u001b[0m     mode \u001b[38;5;241m=\u001b[39m \u001b[38;5;124m\"\u001b[39m\u001b[38;5;124mrb\u001b[39m\u001b[38;5;124m\"\u001b[39m\n\u001b[0;32m   1214\u001b[0m \u001b[38;5;66;03m# error: No overload variant of \"get_handle\" matches argument types\u001b[39;00m\n\u001b[0;32m   1215\u001b[0m \u001b[38;5;66;03m# \"Union[str, PathLike[str], ReadCsvBuffer[bytes], ReadCsvBuffer[str]]\"\u001b[39;00m\n\u001b[0;32m   1216\u001b[0m \u001b[38;5;66;03m# , \"str\", \"bool\", \"Any\", \"Any\", \"Any\", \"Any\", \"Any\"\u001b[39;00m\n\u001b[1;32m-> 1217\u001b[0m \u001b[38;5;28mself\u001b[39m\u001b[38;5;241m.\u001b[39mhandles \u001b[38;5;241m=\u001b[39m \u001b[43mget_handle\u001b[49m\u001b[43m(\u001b[49m\u001b[43m  \u001b[49m\u001b[38;5;66;43;03m# type: ignore[call-overload]\u001b[39;49;00m\n\u001b[0;32m   1218\u001b[0m \u001b[43m    \u001b[49m\u001b[43mf\u001b[49m\u001b[43m,\u001b[49m\n\u001b[0;32m   1219\u001b[0m \u001b[43m    \u001b[49m\u001b[43mmode\u001b[49m\u001b[43m,\u001b[49m\n\u001b[0;32m   1220\u001b[0m \u001b[43m    \u001b[49m\u001b[43mencoding\u001b[49m\u001b[38;5;241;43m=\u001b[39;49m\u001b[38;5;28;43mself\u001b[39;49m\u001b[38;5;241;43m.\u001b[39;49m\u001b[43moptions\u001b[49m\u001b[38;5;241;43m.\u001b[39;49m\u001b[43mget\u001b[49m\u001b[43m(\u001b[49m\u001b[38;5;124;43m\"\u001b[39;49m\u001b[38;5;124;43mencoding\u001b[39;49m\u001b[38;5;124;43m\"\u001b[39;49m\u001b[43m,\u001b[49m\u001b[43m \u001b[49m\u001b[38;5;28;43;01mNone\u001b[39;49;00m\u001b[43m)\u001b[49m\u001b[43m,\u001b[49m\n\u001b[0;32m   1221\u001b[0m \u001b[43m    \u001b[49m\u001b[43mcompression\u001b[49m\u001b[38;5;241;43m=\u001b[39;49m\u001b[38;5;28;43mself\u001b[39;49m\u001b[38;5;241;43m.\u001b[39;49m\u001b[43moptions\u001b[49m\u001b[38;5;241;43m.\u001b[39;49m\u001b[43mget\u001b[49m\u001b[43m(\u001b[49m\u001b[38;5;124;43m\"\u001b[39;49m\u001b[38;5;124;43mcompression\u001b[39;49m\u001b[38;5;124;43m\"\u001b[39;49m\u001b[43m,\u001b[49m\u001b[43m \u001b[49m\u001b[38;5;28;43;01mNone\u001b[39;49;00m\u001b[43m)\u001b[49m\u001b[43m,\u001b[49m\n\u001b[0;32m   1222\u001b[0m \u001b[43m    \u001b[49m\u001b[43mmemory_map\u001b[49m\u001b[38;5;241;43m=\u001b[39;49m\u001b[38;5;28;43mself\u001b[39;49m\u001b[38;5;241;43m.\u001b[39;49m\u001b[43moptions\u001b[49m\u001b[38;5;241;43m.\u001b[39;49m\u001b[43mget\u001b[49m\u001b[43m(\u001b[49m\u001b[38;5;124;43m\"\u001b[39;49m\u001b[38;5;124;43mmemory_map\u001b[39;49m\u001b[38;5;124;43m\"\u001b[39;49m\u001b[43m,\u001b[49m\u001b[43m \u001b[49m\u001b[38;5;28;43;01mFalse\u001b[39;49;00m\u001b[43m)\u001b[49m\u001b[43m,\u001b[49m\n\u001b[0;32m   1223\u001b[0m \u001b[43m    \u001b[49m\u001b[43mis_text\u001b[49m\u001b[38;5;241;43m=\u001b[39;49m\u001b[43mis_text\u001b[49m\u001b[43m,\u001b[49m\n\u001b[0;32m   1224\u001b[0m \u001b[43m    \u001b[49m\u001b[43merrors\u001b[49m\u001b[38;5;241;43m=\u001b[39;49m\u001b[38;5;28;43mself\u001b[39;49m\u001b[38;5;241;43m.\u001b[39;49m\u001b[43moptions\u001b[49m\u001b[38;5;241;43m.\u001b[39;49m\u001b[43mget\u001b[49m\u001b[43m(\u001b[49m\u001b[38;5;124;43m\"\u001b[39;49m\u001b[38;5;124;43mencoding_errors\u001b[39;49m\u001b[38;5;124;43m\"\u001b[39;49m\u001b[43m,\u001b[49m\u001b[43m \u001b[49m\u001b[38;5;124;43m\"\u001b[39;49m\u001b[38;5;124;43mstrict\u001b[39;49m\u001b[38;5;124;43m\"\u001b[39;49m\u001b[43m)\u001b[49m\u001b[43m,\u001b[49m\n\u001b[0;32m   1225\u001b[0m \u001b[43m    \u001b[49m\u001b[43mstorage_options\u001b[49m\u001b[38;5;241;43m=\u001b[39;49m\u001b[38;5;28;43mself\u001b[39;49m\u001b[38;5;241;43m.\u001b[39;49m\u001b[43moptions\u001b[49m\u001b[38;5;241;43m.\u001b[39;49m\u001b[43mget\u001b[49m\u001b[43m(\u001b[49m\u001b[38;5;124;43m\"\u001b[39;49m\u001b[38;5;124;43mstorage_options\u001b[39;49m\u001b[38;5;124;43m\"\u001b[39;49m\u001b[43m,\u001b[49m\u001b[43m \u001b[49m\u001b[38;5;28;43;01mNone\u001b[39;49;00m\u001b[43m)\u001b[49m\u001b[43m,\u001b[49m\n\u001b[0;32m   1226\u001b[0m \u001b[43m\u001b[49m\u001b[43m)\u001b[49m\n\u001b[0;32m   1227\u001b[0m \u001b[38;5;28;01massert\u001b[39;00m \u001b[38;5;28mself\u001b[39m\u001b[38;5;241m.\u001b[39mhandles \u001b[38;5;129;01mis\u001b[39;00m \u001b[38;5;129;01mnot\u001b[39;00m \u001b[38;5;28;01mNone\u001b[39;00m\n\u001b[0;32m   1228\u001b[0m f \u001b[38;5;241m=\u001b[39m \u001b[38;5;28mself\u001b[39m\u001b[38;5;241m.\u001b[39mhandles\u001b[38;5;241m.\u001b[39mhandle\n",
      "File \u001b[1;32m~\\anaconda3\\lib\\site-packages\\pandas\\io\\common.py:789\u001b[0m, in \u001b[0;36mget_handle\u001b[1;34m(path_or_buf, mode, encoding, compression, memory_map, is_text, errors, storage_options)\u001b[0m\n\u001b[0;32m    784\u001b[0m \u001b[38;5;28;01melif\u001b[39;00m \u001b[38;5;28misinstance\u001b[39m(handle, \u001b[38;5;28mstr\u001b[39m):\n\u001b[0;32m    785\u001b[0m     \u001b[38;5;66;03m# Check whether the filename is to be opened in binary mode.\u001b[39;00m\n\u001b[0;32m    786\u001b[0m     \u001b[38;5;66;03m# Binary mode does not support 'encoding' and 'newline'.\u001b[39;00m\n\u001b[0;32m    787\u001b[0m     \u001b[38;5;28;01mif\u001b[39;00m ioargs\u001b[38;5;241m.\u001b[39mencoding \u001b[38;5;129;01mand\u001b[39;00m \u001b[38;5;124m\"\u001b[39m\u001b[38;5;124mb\u001b[39m\u001b[38;5;124m\"\u001b[39m \u001b[38;5;129;01mnot\u001b[39;00m \u001b[38;5;129;01min\u001b[39;00m ioargs\u001b[38;5;241m.\u001b[39mmode:\n\u001b[0;32m    788\u001b[0m         \u001b[38;5;66;03m# Encoding\u001b[39;00m\n\u001b[1;32m--> 789\u001b[0m         handle \u001b[38;5;241m=\u001b[39m \u001b[38;5;28;43mopen\u001b[39;49m\u001b[43m(\u001b[49m\n\u001b[0;32m    790\u001b[0m \u001b[43m            \u001b[49m\u001b[43mhandle\u001b[49m\u001b[43m,\u001b[49m\n\u001b[0;32m    791\u001b[0m \u001b[43m            \u001b[49m\u001b[43mioargs\u001b[49m\u001b[38;5;241;43m.\u001b[39;49m\u001b[43mmode\u001b[49m\u001b[43m,\u001b[49m\n\u001b[0;32m    792\u001b[0m \u001b[43m            \u001b[49m\u001b[43mencoding\u001b[49m\u001b[38;5;241;43m=\u001b[39;49m\u001b[43mioargs\u001b[49m\u001b[38;5;241;43m.\u001b[39;49m\u001b[43mencoding\u001b[49m\u001b[43m,\u001b[49m\n\u001b[0;32m    793\u001b[0m \u001b[43m            \u001b[49m\u001b[43merrors\u001b[49m\u001b[38;5;241;43m=\u001b[39;49m\u001b[43merrors\u001b[49m\u001b[43m,\u001b[49m\n\u001b[0;32m    794\u001b[0m \u001b[43m            \u001b[49m\u001b[43mnewline\u001b[49m\u001b[38;5;241;43m=\u001b[39;49m\u001b[38;5;124;43m\"\u001b[39;49m\u001b[38;5;124;43m\"\u001b[39;49m\u001b[43m,\u001b[49m\n\u001b[0;32m    795\u001b[0m \u001b[43m        \u001b[49m\u001b[43m)\u001b[49m\n\u001b[0;32m    796\u001b[0m     \u001b[38;5;28;01melse\u001b[39;00m:\n\u001b[0;32m    797\u001b[0m         \u001b[38;5;66;03m# Binary mode\u001b[39;00m\n\u001b[0;32m    798\u001b[0m         handle \u001b[38;5;241m=\u001b[39m \u001b[38;5;28mopen\u001b[39m(handle, ioargs\u001b[38;5;241m.\u001b[39mmode)\n",
      "\u001b[1;31mFileNotFoundError\u001b[0m: [Errno 2] No such file or directory: 'twentyseventh4.csv'"
     ]
    }
   ],
   "source": [
    "df = pd.read_csv('twentyseventh4.csv')\n",
    "df"
   ]
  },
  {
   "cell_type": "code",
   "execution_count": null,
   "id": "83fe4648",
   "metadata": {},
   "outputs": [],
   "source": [
    "#df.to_csv('seventh1')"
   ]
  },
  {
   "cell_type": "code",
   "execution_count": null,
   "id": "53b06af2",
   "metadata": {},
   "outputs": [],
   "source": [
    "int(5.000000)"
   ]
  },
  {
   "cell_type": "code",
   "execution_count": null,
   "id": "5e65285d",
   "metadata": {},
   "outputs": [],
   "source": [
    "len(df)"
   ]
  },
  {
   "cell_type": "code",
   "execution_count": null,
   "id": "197ff73b",
   "metadata": {},
   "outputs": [],
   "source": [
    "for index, i, j, k in zip(range(100), df['value'][0:100], df['value'][100:200], dfinfra['total_parking_slots']):\n",
    "    if k<(i+j):\n",
    "        print(index, k, i+j)"
   ]
  },
  {
   "cell_type": "code",
   "execution_count": null,
   "id": "c7f61c13",
   "metadata": {},
   "outputs": [],
   "source": [
    "for index, i, j, k in zip(range(100), df['value'][409800:409900], df['value'][409900:410000], dfinfra['total_parking_slots']):\n",
    "    if k<(i+j):\n",
    "        print(index, k, i+j)"
   ]
  },
  {
   "cell_type": "code",
   "execution_count": null,
   "id": "bdb6064f",
   "metadata": {},
   "outputs": [],
   "source": []
  },
  {
   "cell_type": "code",
   "execution_count": null,
   "id": "68e106c9",
   "metadata": {},
   "outputs": [],
   "source": []
  }
 ],
 "metadata": {
  "kernelspec": {
   "display_name": "Python 3 (ipykernel)",
   "language": "python",
   "name": "python3"
  },
  "language_info": {
   "codemirror_mode": {
    "name": "ipython",
    "version": 3
   },
   "file_extension": ".py",
   "mimetype": "text/x-python",
   "name": "python",
   "nbconvert_exporter": "python",
   "pygments_lexer": "ipython3",
   "version": "3.9.12"
  }
 },
 "nbformat": 4,
 "nbformat_minor": 5
}
